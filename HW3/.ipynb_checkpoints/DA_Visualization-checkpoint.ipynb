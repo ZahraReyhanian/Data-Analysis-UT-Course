{
 "cells": [
  {
   "cell_type": "markdown",
   "metadata": {
    "id": "NQptUp2oWGlK"
   },
   "source": [
    "## Import Modules/Libraries"
   ]
  },
  {
   "cell_type": "code",
   "execution_count": 2,
   "metadata": {
    "id": "rbRSexI6WUG6"
   },
   "outputs": [],
   "source": [
    "import pandas as pd\n",
    "import numpy as np\n",
    "import matplotlib.pyplot as plt\n",
    "import seaborn as sns"
   ]
  },
  {
   "cell_type": "markdown",
   "metadata": {
    "id": "fUU78tO_WCjy"
   },
   "source": [
    "## 💭 Load data using seaborn datasets"
   ]
  },
  {
   "cell_type": "markdown",
   "metadata": {
    "id": "y3VDVtnXWqLi"
   },
   "source": [
    "First, we need to load the data from seaborn datasets. We could also load it from local disk as a Pandas dataframe using `read_csv` method from Pandas library. You can download it from this [link](https://github.com/mwaskom/seaborn-data/blob/master/taxis.csv)."
   ]
  },
  {
   "cell_type": "code",
   "execution_count": 3,
   "metadata": {
    "id": "PVAXDhdpXBE6"
   },
   "outputs": [],
   "source": [
    "import seaborn as sns\n",
    "\n",
    "df = sns.load_dataset('taxis')"
   ]
  },
  {
   "cell_type": "markdown",
   "metadata": {
    "id": "5v9HIoOIXEgx"
   },
   "source": [
    "### 💭 Quick look at data"
   ]
  },
  {
   "cell_type": "markdown",
   "metadata": {
    "id": "2w6uvRuUXLdp"
   },
   "source": [
    "Now,  for better understanding of data display first 5 rows of dataframe.\n"
   ]
  },
  {
   "cell_type": "code",
   "execution_count": 4,
   "metadata": {
    "colab": {
     "base_uri": "https://localhost:8080/",
     "height": 337
    },
    "id": "p0NFTnyKXMrZ",
    "outputId": "3fdfc83d-e00f-46ef-d733-171f36a3bd1b"
   },
   "outputs": [
    {
     "data": {
      "text/html": [
       "\n",
       "  <div id=\"df-f0104163-915e-4fe7-a0a4-ad0ed54b6030\">\n",
       "    <div class=\"colab-df-container\">\n",
       "      <div>\n",
       "<style scoped>\n",
       "    .dataframe tbody tr th:only-of-type {\n",
       "        vertical-align: middle;\n",
       "    }\n",
       "\n",
       "    .dataframe tbody tr th {\n",
       "        vertical-align: top;\n",
       "    }\n",
       "\n",
       "    .dataframe thead th {\n",
       "        text-align: right;\n",
       "    }\n",
       "</style>\n",
       "<table border=\"1\" class=\"dataframe\">\n",
       "  <thead>\n",
       "    <tr style=\"text-align: right;\">\n",
       "      <th></th>\n",
       "      <th>pickup</th>\n",
       "      <th>dropoff</th>\n",
       "      <th>passengers</th>\n",
       "      <th>distance</th>\n",
       "      <th>fare</th>\n",
       "      <th>tip</th>\n",
       "      <th>tolls</th>\n",
       "      <th>total</th>\n",
       "      <th>color</th>\n",
       "      <th>payment</th>\n",
       "      <th>pickup_zone</th>\n",
       "      <th>dropoff_zone</th>\n",
       "      <th>pickup_borough</th>\n",
       "      <th>dropoff_borough</th>\n",
       "    </tr>\n",
       "  </thead>\n",
       "  <tbody>\n",
       "    <tr>\n",
       "      <th>0</th>\n",
       "      <td>2019-03-23 20:21:09</td>\n",
       "      <td>2019-03-23 20:27:24</td>\n",
       "      <td>1</td>\n",
       "      <td>1.60</td>\n",
       "      <td>7.0</td>\n",
       "      <td>2.15</td>\n",
       "      <td>0.0</td>\n",
       "      <td>12.95</td>\n",
       "      <td>yellow</td>\n",
       "      <td>credit card</td>\n",
       "      <td>Lenox Hill West</td>\n",
       "      <td>UN/Turtle Bay South</td>\n",
       "      <td>Manhattan</td>\n",
       "      <td>Manhattan</td>\n",
       "    </tr>\n",
       "    <tr>\n",
       "      <th>1</th>\n",
       "      <td>2019-03-04 16:11:55</td>\n",
       "      <td>2019-03-04 16:19:00</td>\n",
       "      <td>1</td>\n",
       "      <td>0.79</td>\n",
       "      <td>5.0</td>\n",
       "      <td>0.00</td>\n",
       "      <td>0.0</td>\n",
       "      <td>9.30</td>\n",
       "      <td>yellow</td>\n",
       "      <td>cash</td>\n",
       "      <td>Upper West Side South</td>\n",
       "      <td>Upper West Side South</td>\n",
       "      <td>Manhattan</td>\n",
       "      <td>Manhattan</td>\n",
       "    </tr>\n",
       "    <tr>\n",
       "      <th>2</th>\n",
       "      <td>2019-03-27 17:53:01</td>\n",
       "      <td>2019-03-27 18:00:25</td>\n",
       "      <td>1</td>\n",
       "      <td>1.37</td>\n",
       "      <td>7.5</td>\n",
       "      <td>2.36</td>\n",
       "      <td>0.0</td>\n",
       "      <td>14.16</td>\n",
       "      <td>yellow</td>\n",
       "      <td>credit card</td>\n",
       "      <td>Alphabet City</td>\n",
       "      <td>West Village</td>\n",
       "      <td>Manhattan</td>\n",
       "      <td>Manhattan</td>\n",
       "    </tr>\n",
       "    <tr>\n",
       "      <th>3</th>\n",
       "      <td>2019-03-10 01:23:59</td>\n",
       "      <td>2019-03-10 01:49:51</td>\n",
       "      <td>1</td>\n",
       "      <td>7.70</td>\n",
       "      <td>27.0</td>\n",
       "      <td>6.15</td>\n",
       "      <td>0.0</td>\n",
       "      <td>36.95</td>\n",
       "      <td>yellow</td>\n",
       "      <td>credit card</td>\n",
       "      <td>Hudson Sq</td>\n",
       "      <td>Yorkville West</td>\n",
       "      <td>Manhattan</td>\n",
       "      <td>Manhattan</td>\n",
       "    </tr>\n",
       "    <tr>\n",
       "      <th>4</th>\n",
       "      <td>2019-03-30 13:27:42</td>\n",
       "      <td>2019-03-30 13:37:14</td>\n",
       "      <td>3</td>\n",
       "      <td>2.16</td>\n",
       "      <td>9.0</td>\n",
       "      <td>1.10</td>\n",
       "      <td>0.0</td>\n",
       "      <td>13.40</td>\n",
       "      <td>yellow</td>\n",
       "      <td>credit card</td>\n",
       "      <td>Midtown East</td>\n",
       "      <td>Yorkville West</td>\n",
       "      <td>Manhattan</td>\n",
       "      <td>Manhattan</td>\n",
       "    </tr>\n",
       "  </tbody>\n",
       "</table>\n",
       "</div>\n",
       "      <button class=\"colab-df-convert\" onclick=\"convertToInteractive('df-f0104163-915e-4fe7-a0a4-ad0ed54b6030')\"\n",
       "              title=\"Convert this dataframe to an interactive table.\"\n",
       "              style=\"display:none;\">\n",
       "        \n",
       "  <svg xmlns=\"http://www.w3.org/2000/svg\" height=\"24px\"viewBox=\"0 0 24 24\"\n",
       "       width=\"24px\">\n",
       "    <path d=\"M0 0h24v24H0V0z\" fill=\"none\"/>\n",
       "    <path d=\"M18.56 5.44l.94 2.06.94-2.06 2.06-.94-2.06-.94-.94-2.06-.94 2.06-2.06.94zm-11 1L8.5 8.5l.94-2.06 2.06-.94-2.06-.94L8.5 2.5l-.94 2.06-2.06.94zm10 10l.94 2.06.94-2.06 2.06-.94-2.06-.94-.94-2.06-.94 2.06-2.06.94z\"/><path d=\"M17.41 7.96l-1.37-1.37c-.4-.4-.92-.59-1.43-.59-.52 0-1.04.2-1.43.59L10.3 9.45l-7.72 7.72c-.78.78-.78 2.05 0 2.83L4 21.41c.39.39.9.59 1.41.59.51 0 1.02-.2 1.41-.59l7.78-7.78 2.81-2.81c.8-.78.8-2.07 0-2.86zM5.41 20L4 18.59l7.72-7.72 1.47 1.35L5.41 20z\"/>\n",
       "  </svg>\n",
       "      </button>\n",
       "      \n",
       "  <style>\n",
       "    .colab-df-container {\n",
       "      display:flex;\n",
       "      flex-wrap:wrap;\n",
       "      gap: 12px;\n",
       "    }\n",
       "\n",
       "    .colab-df-convert {\n",
       "      background-color: #E8F0FE;\n",
       "      border: none;\n",
       "      border-radius: 50%;\n",
       "      cursor: pointer;\n",
       "      display: none;\n",
       "      fill: #1967D2;\n",
       "      height: 32px;\n",
       "      padding: 0 0 0 0;\n",
       "      width: 32px;\n",
       "    }\n",
       "\n",
       "    .colab-df-convert:hover {\n",
       "      background-color: #E2EBFA;\n",
       "      box-shadow: 0px 1px 2px rgba(60, 64, 67, 0.3), 0px 1px 3px 1px rgba(60, 64, 67, 0.15);\n",
       "      fill: #174EA6;\n",
       "    }\n",
       "\n",
       "    [theme=dark] .colab-df-convert {\n",
       "      background-color: #3B4455;\n",
       "      fill: #D2E3FC;\n",
       "    }\n",
       "\n",
       "    [theme=dark] .colab-df-convert:hover {\n",
       "      background-color: #434B5C;\n",
       "      box-shadow: 0px 1px 3px 1px rgba(0, 0, 0, 0.15);\n",
       "      filter: drop-shadow(0px 1px 2px rgba(0, 0, 0, 0.3));\n",
       "      fill: #FFFFFF;\n",
       "    }\n",
       "  </style>\n",
       "\n",
       "      <script>\n",
       "        const buttonEl =\n",
       "          document.querySelector('#df-f0104163-915e-4fe7-a0a4-ad0ed54b6030 button.colab-df-convert');\n",
       "        buttonEl.style.display =\n",
       "          google.colab.kernel.accessAllowed ? 'block' : 'none';\n",
       "\n",
       "        async function convertToInteractive(key) {\n",
       "          const element = document.querySelector('#df-f0104163-915e-4fe7-a0a4-ad0ed54b6030');\n",
       "          const dataTable =\n",
       "            await google.colab.kernel.invokeFunction('convertToInteractive',\n",
       "                                                     [key], {});\n",
       "          if (!dataTable) return;\n",
       "\n",
       "          const docLinkHtml = 'Like what you see? Visit the ' +\n",
       "            '<a target=\"_blank\" href=https://colab.research.google.com/notebooks/data_table.ipynb>data table notebook</a>'\n",
       "            + ' to learn more about interactive tables.';\n",
       "          element.innerHTML = '';\n",
       "          dataTable['output_type'] = 'display_data';\n",
       "          await google.colab.output.renderOutput(dataTable, element);\n",
       "          const docLink = document.createElement('div');\n",
       "          docLink.innerHTML = docLinkHtml;\n",
       "          element.appendChild(docLink);\n",
       "        }\n",
       "      </script>\n",
       "    </div>\n",
       "  </div>\n",
       "  "
      ],
      "text/plain": [
       "                pickup              dropoff  passengers  distance  fare   tip  \\\n",
       "0  2019-03-23 20:21:09  2019-03-23 20:27:24           1      1.60   7.0  2.15   \n",
       "1  2019-03-04 16:11:55  2019-03-04 16:19:00           1      0.79   5.0  0.00   \n",
       "2  2019-03-27 17:53:01  2019-03-27 18:00:25           1      1.37   7.5  2.36   \n",
       "3  2019-03-10 01:23:59  2019-03-10 01:49:51           1      7.70  27.0  6.15   \n",
       "4  2019-03-30 13:27:42  2019-03-30 13:37:14           3      2.16   9.0  1.10   \n",
       "\n",
       "   tolls  total   color      payment            pickup_zone  \\\n",
       "0    0.0  12.95  yellow  credit card        Lenox Hill West   \n",
       "1    0.0   9.30  yellow         cash  Upper West Side South   \n",
       "2    0.0  14.16  yellow  credit card          Alphabet City   \n",
       "3    0.0  36.95  yellow  credit card              Hudson Sq   \n",
       "4    0.0  13.40  yellow  credit card           Midtown East   \n",
       "\n",
       "            dropoff_zone pickup_borough dropoff_borough  \n",
       "0    UN/Turtle Bay South      Manhattan       Manhattan  \n",
       "1  Upper West Side South      Manhattan       Manhattan  \n",
       "2           West Village      Manhattan       Manhattan  \n",
       "3         Yorkville West      Manhattan       Manhattan  \n",
       "4         Yorkville West      Manhattan       Manhattan  "
      ]
     },
     "execution_count": 4,
     "metadata": {},
     "output_type": "execute_result"
    }
   ],
   "source": [
    "# first 5 rows\n",
    "df.head(5)"
   ]
  },
  {
   "cell_type": "markdown",
   "metadata": {
    "id": "9hRb9iNPXb1Z"
   },
   "source": [
    "Most of the times when you want to analyse a data you need to define new \n",
    "parameters such as what we did below:"
   ]
  },
  {
   "cell_type": "code",
   "execution_count": 6,
   "metadata": {
    "id": "4voxzhxeXeJo"
   },
   "outputs": [],
   "source": [
    "from datetime import datetime, timezone \n",
    "import pytz \n",
    " \n",
    "local_tz = pytz.timezone('Asia/Tehran') \n",
    "timestamps=[datetime.strptime(t, '%Y-%m-%d %H:%M:%S').replace(tzinfo=pytz.utc).astimezone(local_tz).timestamp() for t in df['pickup']] \n",
    "df['pickup_timestamp'] = timestamps\n",
    "timestamps=[datetime.strptime(t, '%Y-%m-%d %H:%M:%S').replace(tzinfo=pytz.utc).astimezone(local_tz).timestamp() for t in df['dropoff']] \n",
    "df['dropoff_timestamp'] = timestamps"
   ]
  },
  {
   "cell_type": "code",
   "execution_count": 7,
   "metadata": {
    "id": "MIlvL2PfXjgo"
   },
   "outputs": [],
   "source": [
    "df['request_year'] = [datetime.strptime(t, '%Y-%m-%d %H:%M:%S').year for t in df['pickup']]\n",
    "df['request_month'] = [datetime.strptime(t, '%Y-%m-%d %H:%M:%S').month for t in df['pickup']]\n",
    "df['request_day'] = [datetime.strptime(t, '%Y-%m-%d %H:%M:%S').day for t in df['pickup']]\n",
    "df['request_hour'] = [datetime.strptime(t, '%Y-%m-%d %H:%M:%S').hour for t in df['pickup']]"
   ]
  },
  {
   "cell_type": "markdown",
   "metadata": {
    "id": "KAWMX3OAXwbi"
   },
   "source": [
    "## 💭 Labels and titles"
   ]
  },
  {
   "cell_type": "markdown",
   "metadata": {
    "id": "EzVx0nO1YGbx"
   },
   "source": [
    "In the first step, you are going to learn how add labels and titles to your figures.\n",
    "\n",
    "All of your following figures should have labels and titles.\n",
    "\n",
    "*   y1 color to Cyan, label to \"sin\"\n",
    "*   y2 color to Yellow, label to \"-sin\"\n",
    "*   title to \"sin and -sin from -2*pi to 2*pi\"\n",
    "*   xlabel to \"degree\"\n",
    "*   ylabel to \"y\""
   ]
  },
  {
   "cell_type": "code",
   "execution_count": 10,
   "metadata": {
    "colab": {
     "base_uri": "https://localhost:8080/",
     "height": 295
    },
    "id": "2NfPiLZaZL3o",
    "outputId": "18404681-4adc-493a-d1ee-1fe0632d4f5c"
   },
   "outputs": [
    {
     "data": {
      "image/png": "[encoded data removed]",
      "text/plain": [
       "<Figure size 432x288 with 1 Axes>"
      ]
     },
     "metadata": {
      "needs_background": "light"
     },
     "output_type": "display_data"
    }
   ],
   "source": [
    "import numpy as np\n",
    "from matplotlib import pyplot as plt\n",
    "x = np.linspace(-2*np.pi, 2*np.pi, 1000, endpoint=True)\n",
    "y1 = np.sin(x)\n",
    "y2 = -1*np.sin(x)\n",
    "plt.plot(x, y1, color=\"c\", label = \"sin\")\n",
    "plt.plot(x, y2, color=\"y\", label = \"-sin\")\n",
    "plt.title(\"sin and -sin from -2*pi to 2*pi\")\n",
    "plt.xlabel(\"degree\")\n",
    "plt.ylabel(\"y\")\n",
    "plt.legend()\n",
    "plt.show()"
   ]
  },
  {
   "cell_type": "markdown",
   "metadata": {
    "id": "3jqaZtM9bHJ-"
   },
   "source": [
    "⭐ Now that you have learned how to set titles, axis labels, legends and etc, set appropriate ones for the following questions."
   ]
  },
  {
   "cell_type": "markdown",
   "metadata": {
    "id": "UidYY1_nbhnM"
   },
   "source": [
    "###Univariate visualization"
   ]
  },
  {
   "cell_type": "markdown",
   "metadata": {
    "id": "pP28B57-oLC0"
   },
   "source": [
    "Every time you see “uni”, it means one and by Univariate visualization we mean to visualize and analyze one feature of our dataset. Analyzing one feature mostly means to observe the distribution of the feature. To do so, every statistical type of features has its own means of visualizing its distribution."
   ]
  },
  {
   "cell_type": "markdown",
   "metadata": {
    "id": "xPy4Y9n6cMak"
   },
   "source": [
    "####Quantitative features"
   ]
  },
  {
   "cell_type": "markdown",
   "metadata": {
    "id": "ty09-XvAcfwK"
   },
   "source": [
    "Numerical values, such as discrete values (integer) or continuous values (real numbers or float) are mostly referred as Quantitative features."
   ]
  },
  {
   "cell_type": "markdown",
   "metadata": {
    "id": "T44j9SMldHHb"
   },
   "source": [
    "##### 💭 Histograms and density plots"
   ]
  },
  {
   "cell_type": "markdown",
   "metadata": {
    "id": "PEnGG771dK8i"
   },
   "source": [
    "One simple way of visualizing the distribution of a numerical value is to use a histogram. It first, divides the range of the value into parts named bins and counts how many of feature instances are in the range of that bin. The distribution of the feature or its skewness can be visualized using histograms."
   ]
  },
  {
   "cell_type": "markdown",
   "metadata": {
    "id": "83kBrvXKggy2"
   },
   "source": [
    "- Plot a `hsitogram` for tip with an appropaite `bin` size.\n"
   ]
  },
  {
   "cell_type": "code",
   "execution_count": 11,
   "metadata": {
    "colab": {
     "base_uri": "https://localhost:8080/",
     "height": 265
    },
    "id": "UMJTy2bLo4ol",
    "outputId": "792e08e6-a35a-471c-98ec-df4f16ee726c"
   },
   "outputs": [
    {
     "data": {
      "image/png": "[encoded data removed]",
      "text/plain": [
       "<Figure size 432x288 with 1 Axes>"
      ]
     },
     "metadata": {
      "needs_background": "light"
     },
     "output_type": "display_data"
    }
   ],
   "source": [
    "#histogram of a numerical variable\n",
    "plt.hist(df.tip);"
   ]
  },
  {
   "cell_type": "markdown",
   "metadata": {
    "id": "YSrPBNjxwMV2"
   },
   "source": [
    "Now we want to compare `histogram of two groups`:\n",
    "\n",
    "- First group: trips have 1 passenger\n",
    "\n",
    "- Second group: trips have 6 passengers\n",
    "\n",
    "Run below steps one by one:\n",
    "\n",
    "- 1) Plot these two groups with plt.hist with 20 bins\n",
    "- 2) what's the problem? As you can see the frequency of two groups are different\n",
    "  and comparing them is impossible. By changing the `density` paramater of plt.hist to `True` we can compare two distributions. Why? What changed?\n",
    "\n",
    "- 3) Now we can increase transparency of one of the groups by changing `alpha` parameter of plt.hist to `0.5`, so we can compare two histograms better."
   ]
  },
  {
   "cell_type": "code",
   "execution_count": 12,
   "metadata": {
    "colab": {
     "base_uri": "https://localhost:8080/",
     "height": 279
    },
    "id": "h7-_TVpowRRd",
    "outputId": "8f2f7c71-7cc5-4a28-f354-4925d009d012"
   },
   "outputs": [
    {
     "data": {
      "image/png": "[encoded data removed]",
      "text/plain": [
       "<Figure size 432x288 with 1 Axes>"
      ]
     },
     "metadata": {
      "needs_background": "light"
     },
     "output_type": "display_data"
    }
   ],
   "source": [
    "plt.hist(df[df['passengers'] == 1]['tip'], bins=20, density=True);\n",
    "plt.hist(df[df['passengers'] == 6]['tip'], bins=20, density=True, alpha=0.5)\n",
    "plt.xlabel('tip')\n",
    "plt.ylabel('density')\n",
    "plt.legend(['1', '6']);\n"
   ]
  },
  {
   "cell_type": "markdown",
   "metadata": {
    "id": "JJJOvn09cMfa"
   },
   "source": [
    "#### Categorical and binary features"
   ]
  },
  {
   "cell_type": "markdown",
   "metadata": {
    "id": "ckKqrYoMclKC"
   },
   "source": [
    "Categorical features contain a set of certain values corresponding to a category. Binary variables are categorical variables with exactly 2 values in the set of possible values. An ordinal variable is a categorical variable in which variable are ordered, for example if you show people with age younger that 30 as category 1, people with age between 31 and 60 as category 2 and people older than 61 as category 3, it is called an ordinal variable."
   ]
  },
  {
   "cell_type": "markdown",
   "metadata": {
    "id": "7bUVww9frLS9"
   },
   "source": [
    "💭 Bar Plot"
   ]
  },
  {
   "cell_type": "markdown",
   "metadata": {
    "id": "XPhccDFbrfId"
   },
   "source": [
    "A bar chart describes the `comparisons between the discrete categories`. One of the axis of the plot represents the specific categories being compared, while the other axis represents the measured values corresponding to those categories.\n",
    "- Plot a bar plot for `payment` category.\n",
    "- Plot a horizontal bar plot for `color` category.\n"
   ]
  },
  {
   "cell_type": "code",
   "execution_count": 13,
   "metadata": {
    "colab": {
     "base_uri": "https://localhost:8080/",
     "height": 265
    },
    "id": "-JFKzFKGrKwG",
    "outputId": "84e80593-a757-4d7d-fccb-9c055e87de13"
   },
   "outputs": [
    {
     "data": {
      "image/png": "[encoded data removed]",
      "text/plain": [
       "<Figure size 432x288 with 1 Axes>"
      ]
     },
     "metadata": {
      "needs_background": "light"
     },
     "output_type": "display_data"
    }
   ],
   "source": [
    "values = df.groupby('payment')['payment'].count().values\n",
    "index = df.groupby('payment')['payment'].count().index\n",
    "plt.bar(index,values);"
   ]
  },
  {
   "cell_type": "code",
   "execution_count": 37,
   "metadata": {
    "colab": {
     "base_uri": "https://localhost:8080/",
     "height": 282
    },
    "id": "vtfEHPkvrmRH",
    "outputId": "ae2ed8c2-6bb7-4b32-e700-bd2fbb5f719e"
   },
   "outputs": [
    {
     "data": {
      "text/plain": [
       "<BarContainer object of 2 artists>"
      ]
     },
     "execution_count": 37,
     "metadata": {},
     "output_type": "execute_result"
    },
    {
     "data": {
      "image/png": "[encoded data removed]",
      "text/plain": [
       "<Figure size 432x288 with 1 Axes>"
      ]
     },
     "metadata": {
      "needs_background": "light"
     },
     "output_type": "display_data"
    }
   ],
   "source": [
    "index = df.groupby('color')['color'].count().index\n",
    "values = df.groupby('color')['color'].count().values\n",
    "plt.barh(index,values)"
   ]
  },
  {
   "cell_type": "markdown",
   "metadata": {
    "id": "z4dr7vZKr7_t"
   },
   "source": [
    "###Multivariate visualization"
   ]
  },
  {
   "cell_type": "markdown",
   "metadata": {
    "id": "AI2AwBdo4o7v"
   },
   "source": [
    "In order to see relationships between two or more features we can use Multivariate plots. Different plots can be used for different types of variables."
   ]
  },
  {
   "cell_type": "markdown",
   "metadata": {
    "id": "eQV2zUJZs92G"
   },
   "source": [
    "####Quantitative vs. Quantitative"
   ]
  },
  {
   "cell_type": "markdown",
   "metadata": {
    "id": "qexXIsTvth9t"
   },
   "source": [
    "##### 💭 Correlation matrix"
   ]
  },
  {
   "cell_type": "markdown",
   "metadata": {
    "id": "1APbT_9I4tY9"
   },
   "source": [
    "In order to visualize the relationship between two Quantitative variables we can use Correlation matrix. This is useful to find variables that are highly correlated (we can remove one of the dependent variables because they are not informative in order to reduce the dimensionality of our data). We can also plot correlations using heat maps to visualize them better. \n",
    "\n"
   ]
  },
  {
   "cell_type": "markdown",
   "metadata": {
    "id": "0ieKhuC86weF"
   },
   "source": [
    "Plot the correlations among the numerical variables in our dataset\n",
    "\n",
    "* use the method corr() on a DataFrame that calculates the correlation between \n",
    "each pair of features.\n",
    "* plot the result by matplotlib"
   ]
  },
  {
   "cell_type": "code",
   "execution_count": 21,
   "metadata": {
    "colab": {
     "base_uri": "https://localhost:8080/",
     "height": 317
    },
    "id": "20b6oHbRWiKz",
    "outputId": "653c7a67-8429-4509-e9cd-166adf75ac5e"
   },
   "outputs": [
    {
     "data": {
      "image/png": "[encoded data removed]",
      "text/plain": [
       "<Figure size 432x288 with 2 Axes>"
      ]
     },
     "metadata": {
      "needs_background": "light"
     },
     "output_type": "display_data"
    }
   ],
   "source": [
    "numerical_variables = ['passengers', 'distance', 'fare', 'tip', 'tolls', 'total']\n",
    "corr = df[numerical_variables].corr()\n",
    "\n",
    "plt.imshow(corr, cmap='YlGnBu')\n",
    "labels = list(corr.index)\n",
    "loc = [i for i in range(len(labels))]\n",
    "\n",
    "plt.yticks(loc, labels, rotation='horizontal')\n",
    "plt.xticks(loc, labels, rotation='vertical')\n",
    "plt.colorbar()\n",
    "plt.show()"
   ]
  },
  {
   "cell_type": "markdown",
   "metadata": {
    "id": "X-eCMfQ7tsRd"
   },
   "source": [
    "###### 💭 Scatter plot"
   ]
  },
  {
   "cell_type": "markdown",
   "metadata": {
    "id": "q_0Zyb3U4x80"
   },
   "source": [
    "The scatter plot shows the relationship between 2 (or 3 in 3D plots) variables by plotting them as points on Cartesian coordinates. We can observe `correlation` between variables sing it."
   ]
  },
  {
   "cell_type": "markdown",
   "metadata": {
    "id": "iUsWwa_f9bEQ"
   },
   "source": [
    "- Draw a scatter plot for distance and total, assume payment as a categorical variable then determine the samples by payment in scatter plot\n",
    "\n",
    "-  Answer above cell with seaborn in just one line of code. (HINT: relplot)"
   ]
  },
  {
   "cell_type": "code",
   "execution_count": 26,
   "metadata": {
    "colab": {
     "base_uri": "https://localhost:8080/",
     "height": 295
    },
    "id": "pHk-MGdkPylv",
    "outputId": "14a65f48-6391-42eb-c04d-52aaf0742932"
   },
   "outputs": [
    {
     "data": {
      "image/png": "[encoded data removed]",
      "text/plain": [
       "<Figure size 432x288 with 1 Axes>"
      ]
     },
     "metadata": {
      "needs_background": "light"
     },
     "output_type": "display_data"
    }
   ],
   "source": [
    "df_1 = df.loc[df.payment =='credit card'] \n",
    "df_2 = df.loc[df.payment =='cash'] \n",
    "\n",
    "plt.scatter(df_1['distance'], df_1['total'])\n",
    "plt.scatter(df_2['distance'], df_2['total'])\n",
    "plt.legend(['credit card', 'cash'])\n",
    "plt.xlabel(\"distance\")\n",
    "plt.ylabel(\"total\")\n",
    "plt.title(\"distance vs total scatter plot colored by payment type\")\n",
    "plt.show()"
   ]
  },
  {
   "cell_type": "markdown",
   "metadata": {
    "id": "BNM8l7NjtPEE"
   },
   "source": [
    "#### Quantitative vs. Categorical"
   ]
  },
  {
   "cell_type": "markdown",
   "metadata": {
    "id": "b52wTX1uow6M"
   },
   "source": [
    "##### 💭 Box Plot"
   ]
  },
  {
   "cell_type": "markdown",
   "metadata": {
    "id": "B39A1aGBoxDE"
   },
   "source": [
    "Box plots contain of a box, whiskers and some points or outliers. The line inside the box is the median of the data and the box itself is from median of the lower half of the data (25th percentile or Q1) to median of the upper half of the data (75th percentile or Q3). Whiskers are lines from Q1−1.5⋅IQR to Q3+1.5⋅IQR and Q1−1.5⋅IQR to Q3+1.5⋅IQR, where IQR or the interquartile range is Q3−Q1. Points that fall out of the mentioned range are outliers and are shown as individual points."
   ]
  },
  {
   "cell_type": "markdown",
   "metadata": {
    "id": "oJCqyai5qAyO"
   },
   "source": [
    "* Let's compare median, quartiles and outliers of a numerical variable of two   different groups by two box plots:\n",
    "\n",
    "> numerical variable: 'distance'\n",
    "\n",
    "> first group: pickup_borough=='Manhattan'\n",
    "\n",
    "> second group: pickup_borough == 'Queens'\n",
    "\n",
    "> third group: pickup_borough == 'Bronx'\n",
    "\n"
   ]
  },
  {
   "cell_type": "code",
   "execution_count": 28,
   "metadata": {
    "colab": {
     "base_uri": "https://localhost:8080/",
     "height": 894
    },
    "id": "HCnHmrqxRHMP",
    "outputId": "bf1a972f-0663-49f2-a464-59fa05015b87"
   },
   "outputs": [
    {
     "data": {
      "text/plain": [
       "Text(0, 0.5, 'distance')"
      ]
     },
     "execution_count": 28,
     "metadata": {},
     "output_type": "execute_result"
    },
    {
     "data": {
      "image/png": "[encoded data removed]",
      "text/plain": [
       "<Figure size 1080x1080 with 4 Axes>"
      ]
     },
     "metadata": {
      "needs_background": "light"
     },
     "output_type": "display_data"
    }
   ],
   "source": [
    "g1 = df[df['pickup_borough'] == 'Manhattan']['distance']\n",
    "g2 = df[df['pickup_borough'] == 'Queens']['distance']\n",
    "g3 = df[df['pickup_borough'] == 'Bronx']['distance']\n",
    "g4 = df[df['pickup_borough'] == 'Brooklyn']['distance']\n",
    "\n",
    "plt.figure(figsize=(15, 15)) \n",
    "plt.subplot(4, 1, 1)\n",
    "plt.boxplot(g1)\n",
    "plt.xlabel('Manhattan')\n",
    "plt.ylabel('distance')\n",
    "\n",
    "plt.subplot(4, 1, 2)\n",
    "plt.boxplot(g2)\n",
    "plt.xlabel('Queens')\n",
    "plt.ylabel('distance')\n",
    "\n",
    "plt.subplot(4, 1, 3)\n",
    "plt.boxplot(g3)\n",
    "plt.xlabel('Bronx')\n",
    "plt.ylabel('distance')\n",
    "\n",
    "plt.subplot(4, 1, 4)\n",
    "plt.boxplot(g4)\n",
    "plt.xlabel('Brooklyn')\n",
    "plt.ylabel('distance')"
   ]
  },
  {
   "cell_type": "code",
   "execution_count": 29,
   "metadata": {
    "colab": {
     "base_uri": "https://localhost:8080/",
     "height": 386
    },
    "id": "IwFCl1x-u17B",
    "outputId": "509a40eb-c216-4f54-d426-79e429e04084"
   },
   "outputs": [
    {
     "data": {
      "text/plain": [
       "<seaborn.axisgrid.FacetGrid at 0x7fadcfbe2190>"
      ]
     },
     "execution_count": 29,
     "metadata": {},
     "output_type": "execute_result"
    },
    {
     "data": {
      "image/png": "[encoded data removed]",
      "text/plain": [
       "<Figure size 360x360 with 1 Axes>"
      ]
     },
     "metadata": {
      "needs_background": "light"
     },
     "output_type": "display_data"
    }
   ],
   "source": [
    "sns.catplot(x=\"pickup_borough\", y=\"distance\", kind=\"box\", data=df)"
   ]
  },
  {
   "cell_type": "markdown",
   "metadata": {
    "id": "tN_V1k-i_Eow"
   },
   "source": [
    "#####💭 Grouped BarChart"
   ]
  },
  {
   "cell_type": "markdown",
   "metadata": {
    "id": "jqBi2pUL_LeV"
   },
   "source": [
    "A bar chart is a great way to compare categorical data across one or two dimensions. More often than not, it’s more interesting to compare values across two dimensions and for that, a grouped bar chart is needed.\n",
    "- plot a Grouped BarChart based on `payment` variable for `number of passengers`  \n",
    "- Answer above cell with seaborn in just one line of code. (HINT: catplot)"
   ]
  },
  {
   "cell_type": "code",
   "execution_count": 33,
   "metadata": {
    "colab": {
     "base_uri": "https://localhost:8080/",
     "height": 295
    },
    "id": "yb4iuqRhQCCB",
    "outputId": "f7880b45-da97-45a4-94b5-b8b1717a7eae"
   },
   "outputs": [
    {
     "data": {
      "image/png": "[encoded data removed]",
      "text/plain": [
       "<Figure size 432x288 with 1 Axes>"
      ]
     },
     "metadata": {
      "needs_background": "light"
     },
     "output_type": "display_data"
    }
   ],
   "source": [
    "df_1 = df.loc[df.payment =='credit card'] \n",
    "df_2 = df.loc[df.payment =='cash'] \n",
    "\n",
    "values_1 = df_1.groupby('passengers')['passengers'].count().values\n",
    "index_1  = df_1.groupby('passengers')['passengers'].count().index\n",
    "\n",
    "values_2 = df_2.groupby('passengers')['passengers'].count().values\n",
    "index_2  = df_2.groupby('passengers')['passengers'].count().index\n",
    "\n",
    "X_axis_1 = np.arange(len(index_1))\n",
    "X_axis_2 = np.arange(len(index_2))\n",
    "plt.bar(X_axis_2 - 0.2, values_2, 0.4, label = 'cash')\n",
    "plt.bar(X_axis_1 + 0.2, values_1, 0.4, label = 'credit card')\n",
    "\n",
    "\n",
    "plt.xlabel(\"Number of passengers\")\n",
    "plt.ylabel(\"Trips count\")\n",
    "plt.title(\"Trips count for each number of passengers for each group\")\n",
    "plt.legend()\n",
    "plt.show()"
   ]
  },
  {
   "cell_type": "code",
   "execution_count": 34,
   "metadata": {
    "colab": {
     "base_uri": "https://localhost:8080/",
     "height": 369
    },
    "id": "1fnN8iQRpue4",
    "outputId": "0abede13-40d2-4553-e094-68e795da11da"
   },
   "outputs": [
    {
     "data": {
      "image/png": "[encoded data removed]",
      "text/plain": [
       "<Figure size 449.75x360 with 1 Axes>"
      ]
     },
     "metadata": {
      "needs_background": "light"
     },
     "output_type": "display_data"
    }
   ],
   "source": [
    "sns.catplot(x=\"passengers\", hue=\"payment\", kind=\"count\", data=df);"
   ]
  }
 ],
 "metadata": {
  "colab": {
   "provenance": []
  },
  "kernelspec": {
   "display_name": "Python 3 (ipykernel)",
   "language": "python",
   "name": "python3"
  },
  "language_info": {
   "codemirror_mode": {
    "name": "ipython",
    "version": 3
   },
   "file_extension": ".py",
   "mimetype": "text/x-python",
   "name": "python",
   "nbconvert_exporter": "python",
   "pygments_lexer": "ipython3",
   "version": "3.9.12"
  }
 },
 "nbformat": 4,
 "nbformat_minor": 1
}
