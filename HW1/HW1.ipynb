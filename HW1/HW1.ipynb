{
 "cells": [
  {
   "cell_type": "markdown",
   "metadata": {},
   "source": [
    "<div style=\"display:block\" direction=rtl align=right><br><br>\n",
    "    <div  style=\"width:100%;margin:100;display:block\"  display=block align=center>\n",
    "        <img width=130 align=right src=\"https://i.ibb.co/yXKQmtZ/logo1.png\" style=\"margin:0;\" />\n",
    "        <img width=170 align=left  src=\"https://i.ibb.co/wLjqFkw/logo2.png\" style=\"margin:0;\" />\n",
    "        <span><br><font size=5>University of Tehran , school of ECE</font></span>\n",
    "        <span><br><font size=3>Data Analytics Course</font></span>\n",
    "        <span><br><font size=3>Fall 2022</font></span>\n",
    "    </div><br><br><br>\n",
    "    <div style=\"display:block\" align=left display=block> \n",
    "        <font size=3>Homework 1</font><br>\n",
    "        <hr />\n",
    "        <font size=3>TA: <a href=\"mailto:mesbahamirhossein@gmail.com\">Amirhossein Mesbah</a><br></font><br>\n",
    "    </div>\n",
    "</div>"
   ]
  },
  {
   "cell_type": "markdown",
   "metadata": {},
   "source": [
    "# Numpy"
   ]
  },
  {
   "cell_type": "code",
   "execution_count": 15,
   "metadata": {},
   "outputs": [],
   "source": [
    "import numpy as np"
   ]
  },
  {
   "cell_type": "markdown",
   "metadata": {},
   "source": [
    "### Question1: mean and std of numbers between 10 and 1000."
   ]
  },
  {
   "cell_type": "markdown",
   "metadata": {},
   "source": [
    "np.arrange(10, 1001) returns a numpy array which contains number 10 to 1000. With np.mean and np.std we can get mean and std of this numbers."
   ]
  },
  {
   "cell_type": "code",
   "execution_count": 20,
   "metadata": {},
   "outputs": [
    {
     "name": "stdout",
     "output_type": "stream",
     "text": [
      "mean: 505.0\n",
      "std: 286.07691273501956\n"
     ]
    }
   ],
   "source": [
    "numbers = np.arange(10,1001)\n",
    "mean = np.mean(numbers)\n",
    "std = np.std(numbers)\n",
    "print(f'mean: {mean}')\n",
    "print(f'std: {std}')"
   ]
  },
  {
   "cell_type": "markdown",
   "metadata": {},
   "source": [
    "### Question2: nearest point to each random point."
   ]
  },
  {
   "cell_type": "markdown",
   "metadata": {},
   "source": [
    "np.random.rand(100,10) creates a numpy array with 100 rows and 10 columns. Each row is a point.\n",
    "In the second line, I changes dimension of points, so I could subtract the points from each other pairwise. Then I calculate the distance. I stored the result in distances variable and it is (100,100) numpy array.\n",
    "For getting nearest point to each point, I need to get minimum distance in each row which isn't 0. I used np.where(). The first argument shows the condition. The second one is the input array, and the last one is if the element does't match with condition, it takes this value. Its output is the same with distances array except the 0 elements which changed into inf. I used argmin(axis=1) to get index of minimum distances in each row that shows nearest poit to the point in that row."
   ]
  },
  {
   "cell_type": "code",
   "execution_count": 22,
   "metadata": {},
   "outputs": [
    {
     "data": {
      "text/plain": [
       "array([28, 95, 74, 12, 17, 52, 88, 33, 34, 64, 16, 49,  3, 52, 21, 92, 10,\n",
       "       77, 21, 47, 46, 34, 75, 50, 15, 48, 96, 17, 59, 55, 31, 30, 34,  7,\n",
       "       62, 10, 67, 91,  9, 95, 52, 12, 50, 44, 43, 67, 20, 48, 47, 11, 94,\n",
       "       95, 40, 70, 95, 58, 66, 84, 93, 28, 43, 99, 34, 74,  9, 88, 56, 45,\n",
       "       67, 72, 53, 21, 37, 52,  9, 58, 48, 17, 40, 34, 51, 48, 28, 15, 57,\n",
       "       43, 56, 33, 53, 28, 40, 37, 15, 43, 50, 51, 26, 74, 46, 61],\n",
       "      dtype=int64)"
      ]
     },
     "execution_count": 22,
     "metadata": {},
     "output_type": "execute_result"
    }
   ],
   "source": [
    "points = np.random.rand(100,10)\n",
    "distances = ((points[np.newaxis,:,:] - points[:,np.newaxis,:]) ** 2).sum(axis=2)\n",
    "np.where(distances>0, distances, np.inf).argmin(axis=1)"
   ]
  },
  {
   "cell_type": "markdown",
   "metadata": {},
   "source": [
    "### Question3: Histogram of distances."
   ]
  },
  {
   "cell_type": "code",
   "execution_count": 23,
   "metadata": {},
   "outputs": [],
   "source": [
    "import matplotlib.pyplot as plt\n",
    "%matplotlib inline"
   ]
  },
  {
   "cell_type": "markdown",
   "metadata": {},
   "source": [
    "The first line, the same operation in question 2.\n",
    "The second line, I got upper triangular of distances using np.triu and I discarded 0 elements by np.nonzero. Because I wanted to get not duplicated and non zero elements. With np.nonzero(np.triu(distances)) I got the indices and distances[np.nonzero(np.triu(distances))] got me the elements"
   ]
  },
  {
   "cell_type": "code",
   "execution_count": 24,
   "metadata": {},
   "outputs": [],
   "source": [
    "distances = ((points[np.newaxis,:,:] - points[:,np.newaxis,:]) ** 2).sum(axis=2)\n",
    "unique_dis = distances[np.nonzero(np.triu(distances))]"
   ]
  },
  {
   "cell_type": "markdown",
   "metadata": {},
   "source": [
    "Here I created histogram of distances using matplotlib:"
   ]
  },
  {
   "cell_type": "code",
   "execution_count": 26,
   "metadata": {},
   "outputs": [
    {
     "data": {
      "image/png": "[encoded data removed]",
      "text/plain": [
       "<Figure size 1080x504 with 1 Axes>"
      ]
     },
     "metadata": {
      "needs_background": "light"
     },
     "output_type": "display_data"
    }
   ],
   "source": [
    "plt.figure(figsize=(15, 7))\n",
    "plt.hist(unique_dis, bins=np.arange(unique_dis.min(), unique_dis.max()+0.1, 0.02), color='#2192FF');\n",
    "plt.grid(axis='y', alpha=0.75)\n",
    "plt.xlabel('Distances')\n",
    "plt.ylabel('Frequency')\n",
    "plt.title('Histogram of distances');"
   ]
  },
  {
   "cell_type": "markdown",
   "metadata": {},
   "source": [
    "### Question4:"
   ]
  },
  {
   "cell_type": "markdown",
   "metadata": {},
   "source": [
    "Execute the cell below. By running this cell, a dataset will be loaded from `patents.csv` file. In this notebook, you are asked to analyze this data in several ways. There are three numpy arrays in this dataset:\n",
    "\n",
    "- `patent_number`: a unique identifier for each patetnt\n",
    "- `patent features`: a vector of 16 features describing several properties of each patent\n",
    "- `category`: the category to which a patent belongs\n"
   ]
  },
  {
   "cell_type": "code",
   "execution_count": 27,
   "metadata": {},
   "outputs": [],
   "source": [
    "import pandas as pd\n",
    "import numpy as np\n",
    "\n",
    "df = pd.read_csv('data/patents.csv')\n",
    "df.head()\n",
    "patent_number = df['publication_number'].to_numpy()\n",
    "patent_features = df['patent_embedding'].to_numpy()\n",
    "temp = []\n",
    "for i in range(patent_features.size):\n",
    "    s = str(patent_features[i])\n",
    "    s1 = s.replace(r'\\n', '')\n",
    "    temp.append(\n",
    "        np.array(s.split()[1:-1], dtype='float')[:16]\n",
    "    )\n",
    "\n",
    "patent_features = np.stack(temp)\n",
    "patent_category = df['category']"
   ]
  },
  {
   "cell_type": "markdown",
   "metadata": {},
   "source": [
    "#### Part1: Which patent has the highest norm? (Eucledian distance from origin)"
   ]
  },
  {
   "cell_type": "markdown",
   "metadata": {},
   "source": [
    "I calculate norm of each patent using np.linalg.norm on axis = 1. Then I got the index of maximum norm using np.argmax"
   ]
  },
  {
   "cell_type": "code",
   "execution_count": 2,
   "metadata": {},
   "outputs": [
    {
     "data": {
      "text/plain": [
       "10839"
      ]
     },
     "execution_count": 2,
     "metadata": {},
     "output_type": "execute_result"
    }
   ],
   "source": [
    "np.argmax(np.linalg.norm(patent_features, axis = 1))"
   ]
  },
  {
   "cell_type": "markdown",
   "metadata": {},
   "source": [
    "#### Part 2: Find the two patents that are the farthest from eachother"
   ]
  },
  {
   "cell_type": "markdown",
   "metadata": {},
   "source": [
    "using this [link](https://jaykmody.com/blog/distance-matrices-with-numpy/) I found this solution:"
   ]
  },
  {
   "cell_type": "code",
   "execution_count": 29,
   "metadata": {},
   "outputs": [],
   "source": [
    "def calc_distances(x):\n",
    "    y2 = np.sum(x**2, axis=1)\n",
    "    xy = np.matmul(x, x.T)\n",
    "    x2 = y2.reshape(-1,1)\n",
    "    d = x2 - 2*xy + y2\n",
    "    return np.sqrt(np.around(d, 4))"
   ]
  },
  {
   "cell_type": "markdown",
   "metadata": {},
   "source": [
    "In the first line, I called the method above which may take some times and ram to run, because the patent_features is too big.\n",
    "\n",
    "In the second line, I got maximum index of the distances numpy array using the method np.unravel_index. It returned both row and column index of maximum distance."
   ]
  },
  {
   "cell_type": "code",
   "execution_count": 30,
   "metadata": {},
   "outputs": [
    {
     "name": "stdout",
     "output_type": "stream",
     "text": [
      "patents 1661 and 9236 are the farthest from each other\n"
     ]
    }
   ],
   "source": [
    "distances = calc_distances(patent_features)\n",
    "i, j = np.unravel_index(distances.argmax(), distances.shape)\n",
    "print(f'patents {i} and {j} are the farthest from each other')"
   ]
  },
  {
   "cell_type": "markdown",
   "metadata": {},
   "source": [
    "#### Part 3: Write a function that, given a patent number, finds its nearest neighbour."
   ]
  },
  {
   "cell_type": "code",
   "execution_count": 41,
   "metadata": {},
   "outputs": [],
   "source": [
    "def nearest_neighbor(index):\n",
    "    x = patent_features[index]\n",
    "    dis = np.linalg.norm(patent_features - x, axis = 1)\n",
    "    return patent_features[np.where(dis>0, dis, np.inf).argmin()]"
   ]
  },
  {
   "cell_type": "code",
   "execution_count": 42,
   "metadata": {},
   "outputs": [
    {
     "data": {
      "text/plain": [
       "array([ 0.00956003, -0.02285274,  0.0478351 , -0.03366008,  0.00702479,\n",
       "        0.0079092 , -0.01472296,  0.01848073,  0.00506407,  0.0103008 ,\n",
       "        0.01238212,  0.00103275,  0.00028315,  0.05456462, -0.02316478,\n",
       "        0.02296486])"
      ]
     },
     "execution_count": 42,
     "metadata": {},
     "output_type": "execute_result"
    }
   ],
   "source": [
    "nearest_neighbor(8)"
   ]
  },
  {
   "cell_type": "markdown",
   "metadata": {},
   "source": [
    "#### Part 4: How many patents have a nearest neighbour that is in the same category?"
   ]
  },
  {
   "cell_type": "code",
   "execution_count": 100,
   "metadata": {},
   "outputs": [],
   "source": [
    "nearest = np.where(distances>0, distances, np.inf).argmin(axis=1)"
   ]
  },
  {
   "cell_type": "code",
   "execution_count": 101,
   "metadata": {},
   "outputs": [
    {
     "data": {
      "text/plain": [
       "12933"
      ]
     },
     "execution_count": 101,
     "metadata": {},
     "output_type": "execute_result"
    }
   ],
   "source": [
    "np.sum(patent_category[nearest].reset_index(drop=True) == patent_category.reset_index(drop=True))"
   ]
  },
  {
   "cell_type": "markdown",
   "metadata": {},
   "source": [
    "#### Part 5: What is the average and std of distances between every pair of patents within a category? Using these calculated quantities, which cluster do you think is more condensed? Which one is more scattered?"
   ]
  },
  {
   "cell_type": "markdown",
   "metadata": {},
   "source": [
    "For this function, I use this [solution](https://stackoverflow.com/questions/30003068/how-to-get-a-list-of-all-indices-of-repeated-elements-in-a-numpy-array)"
   ]
  },
  {
   "cell_type": "code",
   "execution_count": 52,
   "metadata": {},
   "outputs": [],
   "source": [
    "def split_array(records_array):\n",
    "    vals, inverse, count = np.unique(records_array, return_inverse=True,\n",
    "                                  return_counts=True)\n",
    "\n",
    "    idx_vals_repeated = np.where(count > 1)[0]\n",
    "    vals_repeated = vals[idx_vals_repeated]\n",
    "\n",
    "    rows, cols = np.where(inverse == idx_vals_repeated[:, np.newaxis])\n",
    "    _, inverse_rows = np.unique(rows, return_index=True)\n",
    "    return np.split(cols, inverse_rows[1:])"
   ]
  },
  {
   "cell_type": "code",
   "execution_count": 65,
   "metadata": {},
   "outputs": [],
   "source": [
    "cats = np.array(patent_category)\n",
    "indices = split_array(cats)\n",
    "splitted = [[x for x in patent_features[i]] for i in indices]\n",
    "dis_foreach_cat = [calc_distances(np.array(x)) for x in splitted]"
   ]
  },
  {
   "cell_type": "code",
   "execution_count": 98,
   "metadata": {
    "scrolled": true
   },
   "outputs": [
    {
     "data": {
      "text/plain": [
       "[0.13098788820893562,\n",
       " 0.10235576559800347,\n",
       " 0.14095504006718684,\n",
       " 0.13874016368265063,\n",
       " 0.13610870838522351,\n",
       " 0.13459825864914501,\n",
       " 0.10400535013580435,\n",
       " 0.13052360709718733]"
      ]
     },
     "execution_count": 98,
     "metadata": {},
     "output_type": "execute_result"
    }
   ],
   "source": [
    "[np.mean(x) for x in dis_foreach_cat]"
   ]
  },
  {
   "cell_type": "code",
   "execution_count": 99,
   "metadata": {},
   "outputs": [
    {
     "data": {
      "text/plain": [
       "[0.039730456889040984,\n",
       " 0.030561155675097953,\n",
       " 0.04403438437430892,\n",
       " 0.04483114253700086,\n",
       " 0.04026924022603192,\n",
       " 0.04241680280903665,\n",
       " 0.03180264668252836,\n",
       " 0.03853360250984639]"
      ]
     },
     "execution_count": 99,
     "metadata": {},
     "output_type": "execute_result"
    }
   ],
   "source": [
    "[np.std(x) for x in dis_foreach_cat]"
   ]
  },
  {
   "cell_type": "markdown",
   "metadata": {},
   "source": [
    "The standard deviation of all categories is almost the same. The mean of category 1 and 6 is less than the others which means the patents of these categories are closer to each other. The mean of category 2 is the most. So the patents in this category are more scattered."
   ]
  },
  {
   "cell_type": "markdown",
   "metadata": {},
   "source": [
    "# Working with different Data Files"
   ]
  },
  {
   "cell_type": "markdown",
   "metadata": {},
   "source": [
    "## .txt"
   ]
  },
  {
   "cell_type": "code",
   "execution_count": 31,
   "metadata": {},
   "outputs": [],
   "source": [
    "f = open('data/zen_of_python.txt','r')\n",
    "text = f.read()"
   ]
  },
  {
   "cell_type": "markdown",
   "metadata": {},
   "source": [
    "### Part 1: store words in a list"
   ]
  },
  {
   "cell_type": "markdown",
   "metadata": {},
   "source": [
    "I got all words using text.split(). To get unique words, I used dict.fromkeys and finally I used list() to store them into a list"
   ]
  },
  {
   "cell_type": "code",
   "execution_count": 34,
   "metadata": {},
   "outputs": [],
   "source": [
    "words = list(dict.fromkeys(text.split()))"
   ]
  },
  {
   "cell_type": "markdown",
   "metadata": {},
   "source": [
    "### Part 2: Occurrence of each character"
   ]
  },
  {
   "cell_type": "markdown",
   "metadata": {},
   "source": [
    "The method Counter of collections library, count each character in a string data."
   ]
  },
  {
   "cell_type": "code",
   "execution_count": 36,
   "metadata": {},
   "outputs": [
    {
     "name": "stdout",
     "output_type": "stream",
     "text": [
      "Counter({' ': 134, 'e': 95, 't': 77, 'a': 52, 'i': 51, 'o': 47, 's': 46, 'n': 41, 'r': 38, 'l': 34, 'h': 32, 'b': 23, '\\n': 23, 'u': 23, 'p': 20, 'm': 19, '.': 18, 'c': 18, 'y': 17, 'd': 17, 'f': 14, 'g': 11, 'x': 6, '-': 6, 'v': 5, 'w': 5, 'N': 5, ',': 4, \"'\": 4, 'T': 3, 'S': 3, 'A': 3, 'I': 3, ':': 3, 'P': 2, 'E': 2, 'k': 2, '*': 2, '1': 2, '4': 2, 'Z': 1, 'B': 1, 'C': 1, 'F': 1, 'R': 1, 'U': 1, 'D': 1, '!': 1, '8': 1, '5': 1, '6': 1, '2': 1})\n"
     ]
    }
   ],
   "source": [
    "import collections\n",
    "count = collections.Counter(text)\n",
    "print(count)"
   ]
  },
  {
   "cell_type": "markdown",
   "metadata": {},
   "source": [
    "### Part 3: Occurrence of each word"
   ]
  },
  {
   "cell_type": "markdown",
   "metadata": {},
   "source": [
    "First, I stored all the words of text in a variable.\n",
    "\n",
    "In the for loop of unique word, I calculate occurrence of each word using count method on the variable I defined first."
   ]
  },
  {
   "cell_type": "code",
   "execution_count": 37,
   "metadata": {},
   "outputs": [
    {
     "data": {
      "text/plain": [
       "{'The': 1,\n",
       " 'Zen': 1,\n",
       " 'of': 6,\n",
       " 'Python,': 1,\n",
       " 'by': 1,\n",
       " 'Tim': 1,\n",
       " 'Peters': 1,\n",
       " 'Beautiful': 1,\n",
       " 'is': 10,\n",
       " 'better': 8,\n",
       " 'than': 8,\n",
       " 'ugly.': 1,\n",
       " 'Explicit': 1,\n",
       " 'implicit.': 1,\n",
       " 'Simple': 1,\n",
       " 'complex.': 1,\n",
       " 'Complex': 1,\n",
       " 'complicated.': 1,\n",
       " 'Flat': 1,\n",
       " 'nested.': 1,\n",
       " 'Sparse': 1,\n",
       " 'dense.': 1,\n",
       " 'Readability': 1,\n",
       " 'counts.': 1,\n",
       " 'Special': 1,\n",
       " 'cases': 1,\n",
       " \"aren't\": 1,\n",
       " 'special': 1,\n",
       " 'enough': 1,\n",
       " 'to': 5,\n",
       " 'break': 1,\n",
       " 'the': 5,\n",
       " 'rules.': 1,\n",
       " 'Although': 3,\n",
       " 'practicality': 1,\n",
       " 'beats': 1,\n",
       " 'purity.': 1,\n",
       " 'Errors': 1,\n",
       " 'should': 2,\n",
       " 'never': 2,\n",
       " 'pass': 1,\n",
       " 'silently.': 1,\n",
       " 'Unless': 1,\n",
       " 'explicitly': 1,\n",
       " 'silenced.': 1,\n",
       " 'In': 1,\n",
       " 'face': 1,\n",
       " 'ambiguity,': 1,\n",
       " 'refuse': 1,\n",
       " 'temptation': 1,\n",
       " 'guess.': 1,\n",
       " 'There': 1,\n",
       " 'be': 3,\n",
       " 'one--': 1,\n",
       " 'and': 1,\n",
       " 'preferably': 1,\n",
       " 'only': 1,\n",
       " 'one': 2,\n",
       " '--obvious': 1,\n",
       " 'way': 2,\n",
       " 'do': 2,\n",
       " 'it.': 1,\n",
       " 'that': 1,\n",
       " 'may': 2,\n",
       " 'not': 1,\n",
       " 'obvious': 1,\n",
       " 'at': 1,\n",
       " 'first': 1,\n",
       " 'unless': 1,\n",
       " \"you're\": 1,\n",
       " 'Dutch.': 1,\n",
       " 'Now': 1,\n",
       " 'never.': 1,\n",
       " 'often': 1,\n",
       " '*right*': 1,\n",
       " 'now.': 1,\n",
       " 'If': 2,\n",
       " 'implementation': 2,\n",
       " 'hard': 1,\n",
       " 'explain,': 2,\n",
       " \"it's\": 1,\n",
       " 'a': 2,\n",
       " 'bad': 1,\n",
       " 'idea.': 2,\n",
       " 'easy': 1,\n",
       " 'it': 1,\n",
       " 'good': 1,\n",
       " 'Namespaces': 1,\n",
       " 'are': 1,\n",
       " 'honking': 1,\n",
       " 'great': 1,\n",
       " 'idea': 1,\n",
       " '--': 1,\n",
       " \"let's\": 1,\n",
       " 'more': 1,\n",
       " 'those!': 1,\n",
       " 'Number': 3,\n",
       " 'characters:': 1,\n",
       " '856': 1,\n",
       " 'words:': 1,\n",
       " '144': 1,\n",
       " 'lines:': 1,\n",
       " '21': 1}"
      ]
     },
     "execution_count": 37,
     "metadata": {},
     "output_type": "execute_result"
    }
   ],
   "source": [
    "list_of_words = text.split()\n",
    "occurrence_of_words = {}\n",
    "for word in words :\n",
    "    occurrence_of_words[word] = list_of_words.count(word)\n",
    "occurrence_of_words"
   ]
  },
  {
   "cell_type": "code",
   "execution_count": 38,
   "metadata": {},
   "outputs": [],
   "source": [
    "f.close()"
   ]
  },
  {
   "cell_type": "markdown",
   "metadata": {},
   "source": [
    "### Part 4: Define a function for saving stats at the end of `.txt` file"
   ]
  },
  {
   "cell_type": "markdown",
   "metadata": {},
   "source": [
    "تابعی بنویسی که به ازای هر فایل ورودی با فرمت  .txtتعداد لغات، کاراکتر و سطر فایل متنی را\n",
    "چاپ کرده و در انتهای آن فایل ورودی نوشته و ذخیره کند"
   ]
  },
  {
   "cell_type": "markdown",
   "metadata": {},
   "source": [
    "In thhis method, I check the format of input file using name.endswith, then I got the required things using len and count.\n",
    "\n",
    "Then write this information in the file using write method."
   ]
  },
  {
   "cell_type": "code",
   "execution_count": 39,
   "metadata": {},
   "outputs": [],
   "source": [
    "def process_of_txt_file(file):\n",
    "    if not file.name.endswith('.txt'):\n",
    "        raise TypeError(u'The format of file should be txt')\n",
    "    text = file.read()\n",
    "    len_of_characters = len(text)\n",
    "    len_of_words = len(text.split())\n",
    "    len_of_lines = text.count('\\n') + 1\n",
    "    print('Number of characters: ' ,len_of_characters)\n",
    "    print('Number of  words: ' ,len_of_words)\n",
    "    print('Number of lines: ' ,len_of_lines)\n",
    "    file.write('\\nNumber of characters: ' + str(len_of_characters))\n",
    "    file.write('\\nNumber of  words: ' + str(len_of_words))\n",
    "    file.write('\\nNumber of lines: ' + str(len_of_lines))\n",
    "    file.close()"
   ]
  },
  {
   "cell_type": "markdown",
   "metadata": {},
   "source": [
    "### Part 5: Apply your defined function on 'zen_of_python.txt`"
   ]
  },
  {
   "cell_type": "code",
   "execution_count": 23,
   "metadata": {},
   "outputs": [
    {
     "name": "stdout",
     "output_type": "stream",
     "text": [
      "Number of characters:  856\n",
      "Number of  words:  144\n",
      "Number of lines:  21\n"
     ]
    }
   ],
   "source": [
    "f = open('data/zen_of_python.txt','r+')\n",
    "process_of_txt_file(f)"
   ]
  },
  {
   "cell_type": "markdown",
   "metadata": {},
   "source": [
    "## csv"
   ]
  },
  {
   "cell_type": "markdown",
   "metadata": {},
   "source": [
    "### Part 1: number of features and data points"
   ]
  },
  {
   "cell_type": "code",
   "execution_count": 50,
   "metadata": {},
   "outputs": [],
   "source": [
    "import pandas as pd\n",
    "import numpy as np\n",
    "patents = pd.read_csv('data/patents.csv') "
   ]
  },
  {
   "cell_type": "code",
   "execution_count": 51,
   "metadata": {},
   "outputs": [
    {
     "name": "stdout",
     "output_type": "stream",
     "text": [
      "number of features: 5\n",
      "number of data points: 15689\n"
     ]
    }
   ],
   "source": [
    "datapoints, features = patents.shape\n",
    "print(f'number of features: {features}')\n",
    "print(f'number of data points: {datapoints}')"
   ]
  },
  {
   "cell_type": "markdown",
   "metadata": {},
   "source": [
    "### Part 2: Name of Features"
   ]
  },
  {
   "cell_type": "markdown",
   "metadata": {},
   "source": [
    "patents.columns has the name of features. so with a for loop on it, we can show the name of each feature"
   ]
  },
  {
   "cell_type": "code",
   "execution_count": 52,
   "metadata": {},
   "outputs": [
    {
     "name": "stdout",
     "output_type": "stream",
     "text": [
      "publication_number\n",
      "title\n",
      "cpc_code\n",
      "patent_embedding\n",
      "category\n"
     ]
    }
   ],
   "source": [
    "for x in patents.columns:\n",
    "    print(x)"
   ]
  },
  {
   "cell_type": "markdown",
   "metadata": {},
   "source": [
    "### Part 3: Print Stats of Dataframe"
   ]
  },
  {
   "cell_type": "code",
   "execution_count": 53,
   "metadata": {},
   "outputs": [
    {
     "name": "stdout",
     "output_type": "stream",
     "text": [
      "3.85422907769775\n",
      "4.0\n",
      "1.0\n",
      "6.0\n",
      "2.4992270065169824\n",
      "7\n",
      "0\n"
     ]
    }
   ],
   "source": [
    "categories = patents.loc[:,'category']\n",
    "print(categories.mean())\n",
    "print(np.median(categories))\n",
    "print(np.quantile(categories, 0.25))\n",
    "print(np.quantile(categories, 0.75))\n",
    "print(np.std(categories))\n",
    "print(categories.max())\n",
    "print(categories.min())"
   ]
  },
  {
   "cell_type": "markdown",
   "metadata": {},
   "source": [
    "### Part 4: print rows."
   ]
  },
  {
   "cell_type": "code",
   "execution_count": 54,
   "metadata": {},
   "outputs": [
    {
     "data": {
      "text/html": [
       "<div>\n",
       "<style scoped>\n",
       "    .dataframe tbody tr th:only-of-type {\n",
       "        vertical-align: middle;\n",
       "    }\n",
       "\n",
       "    .dataframe tbody tr th {\n",
       "        vertical-align: top;\n",
       "    }\n",
       "\n",
       "    .dataframe thead th {\n",
       "        text-align: right;\n",
       "    }\n",
       "</style>\n",
       "<table border=\"1\" class=\"dataframe\">\n",
       "  <thead>\n",
       "    <tr style=\"text-align: right;\">\n",
       "      <th></th>\n",
       "      <th>publication_number</th>\n",
       "      <th>title</th>\n",
       "      <th>cpc_code</th>\n",
       "      <th>patent_embedding</th>\n",
       "      <th>category</th>\n",
       "    </tr>\n",
       "  </thead>\n",
       "  <tbody>\n",
       "    <tr>\n",
       "      <th>0</th>\n",
       "      <td>US-2019250858-A1</td>\n",
       "      <td>memory controller and operating method thereof</td>\n",
       "      <td>G06F3/061</td>\n",
       "      <td>[ 0.00135472  0.01564001 -0.04858465  0.039866...</td>\n",
       "      <td>1</td>\n",
       "    </tr>\n",
       "    <tr>\n",
       "      <th>1</th>\n",
       "      <td>US-1000462-A</td>\n",
       "      <td>corn planter</td>\n",
       "      <td>A01C9/00</td>\n",
       "      <td>[-4.44490612e-02  2.48770583e-02 -5.62837869e-...</td>\n",
       "      <td>6</td>\n",
       "    </tr>\n",
       "    <tr>\n",
       "      <th>2</th>\n",
       "      <td>KR-200146416-Y1</td>\n",
       "      <td>antitheft vehicle security system</td>\n",
       "      <td>B60R25/209</td>\n",
       "      <td>[-2.53110677e-02 -2.04547048e-02  8.63679312e-...</td>\n",
       "      <td>0</td>\n",
       "    </tr>\n",
       "    <tr>\n",
       "      <th>3</th>\n",
       "      <td>KR-0160422-B1</td>\n",
       "      <td>a door opening and shutting apparatus and meth...</td>\n",
       "      <td>D06F37/42</td>\n",
       "      <td>[ 1.21761542e-02  1.97522007e-02 -6.62921891e-...</td>\n",
       "      <td>1</td>\n",
       "    </tr>\n",
       "    <tr>\n",
       "      <th>4</th>\n",
       "      <td>US-952306-A</td>\n",
       "      <td>spray burner</td>\n",
       "      <td>B05B1/3033</td>\n",
       "      <td>[-0.00214472  0.01606156 -0.09518531  0.060160...</td>\n",
       "      <td>0</td>\n",
       "    </tr>\n",
       "  </tbody>\n",
       "</table>\n",
       "</div>"
      ],
      "text/plain": [
       "  publication_number                                              title  \\\n",
       "0   US-2019250858-A1     memory controller and operating method thereof   \n",
       "1       US-1000462-A                                       corn planter   \n",
       "2    KR-200146416-Y1                  antitheft vehicle security system   \n",
       "3      KR-0160422-B1  a door opening and shutting apparatus and meth...   \n",
       "4        US-952306-A                                       spray burner   \n",
       "\n",
       "     cpc_code                                   patent_embedding  category  \n",
       "0   G06F3/061  [ 0.00135472  0.01564001 -0.04858465  0.039866...         1  \n",
       "1    A01C9/00  [-4.44490612e-02  2.48770583e-02 -5.62837869e-...         6  \n",
       "2  B60R25/209  [-2.53110677e-02 -2.04547048e-02  8.63679312e-...         0  \n",
       "3   D06F37/42  [ 1.21761542e-02  1.97522007e-02 -6.62921891e-...         1  \n",
       "4  B05B1/3033  [-0.00214472  0.01606156 -0.09518531  0.060160...         0  "
      ]
     },
     "execution_count": 54,
     "metadata": {},
     "output_type": "execute_result"
    }
   ],
   "source": [
    "# 5 first rows\n",
    "patents.head(5)"
   ]
  },
  {
   "cell_type": "code",
   "execution_count": 55,
   "metadata": {},
   "outputs": [
    {
     "data": {
      "text/html": [
       "<div>\n",
       "<style scoped>\n",
       "    .dataframe tbody tr th:only-of-type {\n",
       "        vertical-align: middle;\n",
       "    }\n",
       "\n",
       "    .dataframe tbody tr th {\n",
       "        vertical-align: top;\n",
       "    }\n",
       "\n",
       "    .dataframe thead th {\n",
       "        text-align: right;\n",
       "    }\n",
       "</style>\n",
       "<table border=\"1\" class=\"dataframe\">\n",
       "  <thead>\n",
       "    <tr style=\"text-align: right;\">\n",
       "      <th></th>\n",
       "      <th>publication_number</th>\n",
       "      <th>title</th>\n",
       "      <th>cpc_code</th>\n",
       "      <th>patent_embedding</th>\n",
       "      <th>category</th>\n",
       "    </tr>\n",
       "  </thead>\n",
       "  <tbody>\n",
       "    <tr>\n",
       "      <th>15684</th>\n",
       "      <td>AT-415717-T</td>\n",
       "      <td>method and device for produce a low pressure w...</td>\n",
       "      <td>H01M8/04104</td>\n",
       "      <td>[ 1.77878514e-02  3.53233777e-02 -3.37363742e-...</td>\n",
       "      <td>1</td>\n",
       "    </tr>\n",
       "    <tr>\n",
       "      <th>15685</th>\n",
       "      <td>AT-424202-T</td>\n",
       "      <td>substitute _NUMBER_ thio _NUMBER_ _NUMBER_ dic...</td>\n",
       "      <td>C07D417/12</td>\n",
       "      <td>[-0.03664465 -0.01075565 -0.02483719 -0.033502...</td>\n",
       "      <td>5</td>\n",
       "    </tr>\n",
       "    <tr>\n",
       "      <th>15686</th>\n",
       "      <td>CA-2952951-A1</td>\n",
       "      <td>end tip for a vehicle wiper blade</td>\n",
       "      <td>B60S1/3894</td>\n",
       "      <td>[-4.39246558e-02  2.96350904e-02 -2.31920835e-...</td>\n",
       "      <td>0</td>\n",
       "    </tr>\n",
       "    <tr>\n",
       "      <th>15687</th>\n",
       "      <td>CH-608317-A</td>\n",
       "      <td>process for the compressive shrinkage of a web...</td>\n",
       "      <td>D06C21/00</td>\n",
       "      <td>[-3.34328553e-03  1.02757774e-02 -2.01825500e-...</td>\n",
       "      <td>6</td>\n",
       "    </tr>\n",
       "    <tr>\n",
       "      <th>15688</th>\n",
       "      <td>CN-100513251-C</td>\n",
       "      <td>system and process for open cover vessel hull</td>\n",
       "      <td>B63B71/00</td>\n",
       "      <td>[-1.98921170e-02  3.07969116e-02 -2.46879123e-...</td>\n",
       "      <td>6</td>\n",
       "    </tr>\n",
       "  </tbody>\n",
       "</table>\n",
       "</div>"
      ],
      "text/plain": [
       "      publication_number                                              title  \\\n",
       "15684        AT-415717-T  method and device for produce a low pressure w...   \n",
       "15685        AT-424202-T  substitute _NUMBER_ thio _NUMBER_ _NUMBER_ dic...   \n",
       "15686      CA-2952951-A1                  end tip for a vehicle wiper blade   \n",
       "15687        CH-608317-A  process for the compressive shrinkage of a web...   \n",
       "15688     CN-100513251-C      system and process for open cover vessel hull   \n",
       "\n",
       "          cpc_code                                   patent_embedding  \\\n",
       "15684  H01M8/04104  [ 1.77878514e-02  3.53233777e-02 -3.37363742e-...   \n",
       "15685   C07D417/12  [-0.03664465 -0.01075565 -0.02483719 -0.033502...   \n",
       "15686   B60S1/3894  [-4.39246558e-02  2.96350904e-02 -2.31920835e-...   \n",
       "15687    D06C21/00  [-3.34328553e-03  1.02757774e-02 -2.01825500e-...   \n",
       "15688    B63B71/00  [-1.98921170e-02  3.07969116e-02 -2.46879123e-...   \n",
       "\n",
       "       category  \n",
       "15684         1  \n",
       "15685         5  \n",
       "15686         0  \n",
       "15687         6  \n",
       "15688         6  "
      ]
     },
     "execution_count": 55,
     "metadata": {},
     "output_type": "execute_result"
    }
   ],
   "source": [
    "# 5 last rows\n",
    "patents.tail(5)"
   ]
  },
  {
   "cell_type": "code",
   "execution_count": 56,
   "metadata": {},
   "outputs": [
    {
     "data": {
      "text/html": [
       "<div>\n",
       "<style scoped>\n",
       "    .dataframe tbody tr th:only-of-type {\n",
       "        vertical-align: middle;\n",
       "    }\n",
       "\n",
       "    .dataframe tbody tr th {\n",
       "        vertical-align: top;\n",
       "    }\n",
       "\n",
       "    .dataframe thead th {\n",
       "        text-align: right;\n",
       "    }\n",
       "</style>\n",
       "<table border=\"1\" class=\"dataframe\">\n",
       "  <thead>\n",
       "    <tr style=\"text-align: right;\">\n",
       "      <th></th>\n",
       "      <th>publication_number</th>\n",
       "      <th>title</th>\n",
       "      <th>cpc_code</th>\n",
       "      <th>patent_embedding</th>\n",
       "      <th>category</th>\n",
       "    </tr>\n",
       "  </thead>\n",
       "  <tbody>\n",
       "    <tr>\n",
       "      <th>6734</th>\n",
       "      <td>US-2017165942-A1</td>\n",
       "      <td>steel reinforce element coat with an adhesive ...</td>\n",
       "      <td>B32B7/12</td>\n",
       "      <td>[-0.01313424  0.02561567 -0.02121337  0.046601...</td>\n",
       "      <td>6</td>\n",
       "    </tr>\n",
       "    <tr>\n",
       "      <th>233</th>\n",
       "      <td>US-6855373-B2</td>\n",
       "      <td>method and device relate to coat a running web</td>\n",
       "      <td>B05C11/06</td>\n",
       "      <td>[ 6.41068583e-03  3.98901589e-02 -3.29432860e-...</td>\n",
       "      <td>1</td>\n",
       "    </tr>\n",
       "    <tr>\n",
       "      <th>10399</th>\n",
       "      <td>AT-275272-T</td>\n",
       "      <td>speed analysis for seismic data</td>\n",
       "      <td>G01V1/303</td>\n",
       "      <td>[-2.38145273e-02  3.06275971e-02 -1.85000729e-...</td>\n",
       "      <td>7</td>\n",
       "    </tr>\n",
       "    <tr>\n",
       "      <th>13323</th>\n",
       "      <td>US-10446057-B2</td>\n",
       "      <td>weld speed sensor</td>\n",
       "      <td>G09B19/24</td>\n",
       "      <td>[-1.90189220e-02  5.96075729e-02  1.43240308e-...</td>\n",
       "      <td>7</td>\n",
       "    </tr>\n",
       "    <tr>\n",
       "      <th>2307</th>\n",
       "      <td>US-9212296-B2</td>\n",
       "      <td>organic compound optical film and method of pr...</td>\n",
       "      <td>C09D177/06</td>\n",
       "      <td>[ 1.37514072e-02 -1.10867387e-02 -3.63043807e-...</td>\n",
       "      <td>1</td>\n",
       "    </tr>\n",
       "  </tbody>\n",
       "</table>\n",
       "</div>"
      ],
      "text/plain": [
       "      publication_number                                              title  \\\n",
       "6734    US-2017165942-A1  steel reinforce element coat with an adhesive ...   \n",
       "233        US-6855373-B2     method and device relate to coat a running web   \n",
       "10399        AT-275272-T                    speed analysis for seismic data   \n",
       "13323     US-10446057-B2                                  weld speed sensor   \n",
       "2307       US-9212296-B2  organic compound optical film and method of pr...   \n",
       "\n",
       "         cpc_code                                   patent_embedding  category  \n",
       "6734     B32B7/12  [-0.01313424  0.02561567 -0.02121337  0.046601...         6  \n",
       "233     B05C11/06  [ 6.41068583e-03  3.98901589e-02 -3.29432860e-...         1  \n",
       "10399   G01V1/303  [-2.38145273e-02  3.06275971e-02 -1.85000729e-...         7  \n",
       "13323   G09B19/24  [-1.90189220e-02  5.96075729e-02  1.43240308e-...         7  \n",
       "2307   C09D177/06  [ 1.37514072e-02 -1.10867387e-02 -3.63043807e-...         1  "
      ]
     },
     "execution_count": 56,
     "metadata": {},
     "output_type": "execute_result"
    }
   ],
   "source": [
    "# 5 random row\n",
    "patents.sample(5)"
   ]
  },
  {
   "cell_type": "markdown",
   "metadata": {},
   "source": [
    "### DataType of each column"
   ]
  },
  {
   "cell_type": "markdown",
   "metadata": {},
   "source": [
    "the mothod __dtypes__ returns the data type of each column"
   ]
  },
  {
   "cell_type": "code",
   "execution_count": 57,
   "metadata": {},
   "outputs": [
    {
     "data": {
      "text/plain": [
       "publication_number    object\n",
       "title                 object\n",
       "cpc_code              object\n",
       "patent_embedding      object\n",
       "category               int64\n",
       "dtype: object"
      ]
     },
     "execution_count": 57,
     "metadata": {},
     "output_type": "execute_result"
    }
   ],
   "source": [
    "patents.dtypes"
   ]
  },
  {
   "cell_type": "markdown",
   "metadata": {},
   "source": [
    "### Part 5: use iloc and loc to select rows"
   ]
  },
  {
   "cell_type": "code",
   "execution_count": 58,
   "metadata": {},
   "outputs": [
    {
     "data": {
      "text/plain": [
       "1024    device for purple coupling of rotatable axle o...\n",
       "1025                                     heat pump system\n",
       "1026    condensation dryer comprise a heat pump and me...\n",
       "1027                     animal _NUMBER_ plead ingredient\n",
       "1028                      electrostatic dust precipitator\n",
       "                              ...                        \n",
       "2044                  crystalline anti htnfalpha antibody\n",
       "2045    method information processing apparatus and co...\n",
       "2046        pork rind bait and method of prepare the same\n",
       "2047    process for the treatment of titanium contain ...\n",
       "2048    air condition system of a motor vehicle and me...\n",
       "Name: title, Length: 1025, dtype: object"
      ]
     },
     "execution_count": 58,
     "metadata": {},
     "output_type": "execute_result"
    }
   ],
   "source": [
    "# loc\n",
    "patents.loc[1024:2048,'title']"
   ]
  },
  {
   "cell_type": "code",
   "execution_count": 59,
   "metadata": {},
   "outputs": [
    {
     "data": {
      "text/plain": [
       "1024    device for purple coupling of rotatable axle o...\n",
       "1025                                     heat pump system\n",
       "1026    condensation dryer comprise a heat pump and me...\n",
       "1027                     animal _NUMBER_ plead ingredient\n",
       "1028                      electrostatic dust precipitator\n",
       "                              ...                        \n",
       "2044                  crystalline anti htnfalpha antibody\n",
       "2045    method information processing apparatus and co...\n",
       "2046        pork rind bait and method of prepare the same\n",
       "2047    process for the treatment of titanium contain ...\n",
       "2048    air condition system of a motor vehicle and me...\n",
       "Name: title, Length: 1025, dtype: object"
      ]
     },
     "execution_count": 59,
     "metadata": {},
     "output_type": "execute_result"
    }
   ],
   "source": [
    "# iloc\n",
    "patents.iloc[1024:2049,1]"
   ]
  },
  {
   "cell_type": "markdown",
   "metadata": {},
   "source": [
    "#### difference between loc and iloc\n",
    "With loc, the range 1024:2048 prints all rows 1024 to 2048, and for column we can write name of column that here is 'title'.\n",
    "But iloc is a little different! The range 1024:2048 prints all rows 1024 to 2047 and doesn't print element in row 2048. so we should write 1024:2049 to print all rows 1024 to 2048. Another diffence is that for selecting columns, we should write the index of column not the name of it. Here the index of column 'title' is 1."
   ]
  },
  {
   "cell_type": "markdown",
   "metadata": {},
   "source": [
    "### Part 5: Check Dataframe for NaN values"
   ]
  },
  {
   "cell_type": "code",
   "execution_count": 62,
   "metadata": {},
   "outputs": [
    {
     "data": {
      "text/plain": [
       "False"
      ]
     },
     "execution_count": 62,
     "metadata": {},
     "output_type": "execute_result"
    }
   ],
   "source": [
    "patents.isnull().values.any()"
   ]
  },
  {
   "cell_type": "markdown",
   "metadata": {},
   "source": [
    "### Part 6: Check Dataframe for duplicates"
   ]
  },
  {
   "cell_type": "code",
   "execution_count": 63,
   "metadata": {},
   "outputs": [
    {
     "data": {
      "text/plain": [
       "True"
      ]
     },
     "execution_count": 63,
     "metadata": {},
     "output_type": "execute_result"
    }
   ],
   "source": [
    "patents.duplicated().sum() > 0"
   ]
  },
  {
   "cell_type": "markdown",
   "metadata": {},
   "source": [
    "### Part 7: Use `Lambda` Function for calculating word counts"
   ]
  },
  {
   "cell_type": "markdown",
   "metadata": {},
   "source": [
    "Here I used __apply__ method which check every elment at title column. In lambda function first split the element to get the list of words. Then it returns length of this list which is the number of words using method len."
   ]
  },
  {
   "cell_type": "code",
   "execution_count": 64,
   "metadata": {},
   "outputs": [
    {
     "data": {
      "text/html": [
       "<div>\n",
       "<style scoped>\n",
       "    .dataframe tbody tr th:only-of-type {\n",
       "        vertical-align: middle;\n",
       "    }\n",
       "\n",
       "    .dataframe tbody tr th {\n",
       "        vertical-align: top;\n",
       "    }\n",
       "\n",
       "    .dataframe thead th {\n",
       "        text-align: right;\n",
       "    }\n",
       "</style>\n",
       "<table border=\"1\" class=\"dataframe\">\n",
       "  <thead>\n",
       "    <tr style=\"text-align: right;\">\n",
       "      <th></th>\n",
       "      <th>publication_number</th>\n",
       "      <th>title</th>\n",
       "      <th>cpc_code</th>\n",
       "      <th>patent_embedding</th>\n",
       "      <th>category</th>\n",
       "      <th>title_length</th>\n",
       "    </tr>\n",
       "  </thead>\n",
       "  <tbody>\n",
       "    <tr>\n",
       "      <th>0</th>\n",
       "      <td>US-2019250858-A1</td>\n",
       "      <td>memory controller and operating method thereof</td>\n",
       "      <td>G06F3/061</td>\n",
       "      <td>[ 0.00135472  0.01564001 -0.04858465  0.039866...</td>\n",
       "      <td>1</td>\n",
       "      <td>6</td>\n",
       "    </tr>\n",
       "    <tr>\n",
       "      <th>1</th>\n",
       "      <td>US-1000462-A</td>\n",
       "      <td>corn planter</td>\n",
       "      <td>A01C9/00</td>\n",
       "      <td>[-4.44490612e-02  2.48770583e-02 -5.62837869e-...</td>\n",
       "      <td>6</td>\n",
       "      <td>2</td>\n",
       "    </tr>\n",
       "    <tr>\n",
       "      <th>2</th>\n",
       "      <td>KR-200146416-Y1</td>\n",
       "      <td>antitheft vehicle security system</td>\n",
       "      <td>B60R25/209</td>\n",
       "      <td>[-2.53110677e-02 -2.04547048e-02  8.63679312e-...</td>\n",
       "      <td>0</td>\n",
       "      <td>4</td>\n",
       "    </tr>\n",
       "    <tr>\n",
       "      <th>3</th>\n",
       "      <td>KR-0160422-B1</td>\n",
       "      <td>a door opening and shutting apparatus and meth...</td>\n",
       "      <td>D06F37/42</td>\n",
       "      <td>[ 1.21761542e-02  1.97522007e-02 -6.62921891e-...</td>\n",
       "      <td>1</td>\n",
       "      <td>12</td>\n",
       "    </tr>\n",
       "    <tr>\n",
       "      <th>4</th>\n",
       "      <td>US-952306-A</td>\n",
       "      <td>spray burner</td>\n",
       "      <td>B05B1/3033</td>\n",
       "      <td>[-0.00214472  0.01606156 -0.09518531  0.060160...</td>\n",
       "      <td>0</td>\n",
       "      <td>2</td>\n",
       "    </tr>\n",
       "    <tr>\n",
       "      <th>...</th>\n",
       "      <td>...</td>\n",
       "      <td>...</td>\n",
       "      <td>...</td>\n",
       "      <td>...</td>\n",
       "      <td>...</td>\n",
       "      <td>...</td>\n",
       "    </tr>\n",
       "    <tr>\n",
       "      <th>15684</th>\n",
       "      <td>AT-415717-T</td>\n",
       "      <td>method and device for produce a low pressure w...</td>\n",
       "      <td>H01M8/04104</td>\n",
       "      <td>[ 1.77878514e-02  3.53233777e-02 -3.37363742e-...</td>\n",
       "      <td>1</td>\n",
       "      <td>17</td>\n",
       "    </tr>\n",
       "    <tr>\n",
       "      <th>15685</th>\n",
       "      <td>AT-424202-T</td>\n",
       "      <td>substitute _NUMBER_ thio _NUMBER_ _NUMBER_ dic...</td>\n",
       "      <td>C07D417/12</td>\n",
       "      <td>[-0.03664465 -0.01075565 -0.02483719 -0.033502...</td>\n",
       "      <td>5</td>\n",
       "      <td>13</td>\n",
       "    </tr>\n",
       "    <tr>\n",
       "      <th>15686</th>\n",
       "      <td>CA-2952951-A1</td>\n",
       "      <td>end tip for a vehicle wiper blade</td>\n",
       "      <td>B60S1/3894</td>\n",
       "      <td>[-4.39246558e-02  2.96350904e-02 -2.31920835e-...</td>\n",
       "      <td>0</td>\n",
       "      <td>7</td>\n",
       "    </tr>\n",
       "    <tr>\n",
       "      <th>15687</th>\n",
       "      <td>CH-608317-A</td>\n",
       "      <td>process for the compressive shrinkage of a web...</td>\n",
       "      <td>D06C21/00</td>\n",
       "      <td>[-3.34328553e-03  1.02757774e-02 -2.01825500e-...</td>\n",
       "      <td>6</td>\n",
       "      <td>12</td>\n",
       "    </tr>\n",
       "    <tr>\n",
       "      <th>15688</th>\n",
       "      <td>CN-100513251-C</td>\n",
       "      <td>system and process for open cover vessel hull</td>\n",
       "      <td>B63B71/00</td>\n",
       "      <td>[-1.98921170e-02  3.07969116e-02 -2.46879123e-...</td>\n",
       "      <td>6</td>\n",
       "      <td>8</td>\n",
       "    </tr>\n",
       "  </tbody>\n",
       "</table>\n",
       "<p>15689 rows × 6 columns</p>\n",
       "</div>"
      ],
      "text/plain": [
       "      publication_number                                              title  \\\n",
       "0       US-2019250858-A1     memory controller and operating method thereof   \n",
       "1           US-1000462-A                                       corn planter   \n",
       "2        KR-200146416-Y1                  antitheft vehicle security system   \n",
       "3          KR-0160422-B1  a door opening and shutting apparatus and meth...   \n",
       "4            US-952306-A                                       spray burner   \n",
       "...                  ...                                                ...   \n",
       "15684        AT-415717-T  method and device for produce a low pressure w...   \n",
       "15685        AT-424202-T  substitute _NUMBER_ thio _NUMBER_ _NUMBER_ dic...   \n",
       "15686      CA-2952951-A1                  end tip for a vehicle wiper blade   \n",
       "15687        CH-608317-A  process for the compressive shrinkage of a web...   \n",
       "15688     CN-100513251-C      system and process for open cover vessel hull   \n",
       "\n",
       "          cpc_code                                   patent_embedding  \\\n",
       "0        G06F3/061  [ 0.00135472  0.01564001 -0.04858465  0.039866...   \n",
       "1         A01C9/00  [-4.44490612e-02  2.48770583e-02 -5.62837869e-...   \n",
       "2       B60R25/209  [-2.53110677e-02 -2.04547048e-02  8.63679312e-...   \n",
       "3        D06F37/42  [ 1.21761542e-02  1.97522007e-02 -6.62921891e-...   \n",
       "4       B05B1/3033  [-0.00214472  0.01606156 -0.09518531  0.060160...   \n",
       "...            ...                                                ...   \n",
       "15684  H01M8/04104  [ 1.77878514e-02  3.53233777e-02 -3.37363742e-...   \n",
       "15685   C07D417/12  [-0.03664465 -0.01075565 -0.02483719 -0.033502...   \n",
       "15686   B60S1/3894  [-4.39246558e-02  2.96350904e-02 -2.31920835e-...   \n",
       "15687    D06C21/00  [-3.34328553e-03  1.02757774e-02 -2.01825500e-...   \n",
       "15688    B63B71/00  [-1.98921170e-02  3.07969116e-02 -2.46879123e-...   \n",
       "\n",
       "       category  title_length  \n",
       "0             1             6  \n",
       "1             6             2  \n",
       "2             0             4  \n",
       "3             1            12  \n",
       "4             0             2  \n",
       "...         ...           ...  \n",
       "15684         1            17  \n",
       "15685         5            13  \n",
       "15686         0             7  \n",
       "15687         6            12  \n",
       "15688         6             8  \n",
       "\n",
       "[15689 rows x 6 columns]"
      ]
     },
     "execution_count": 64,
     "metadata": {},
     "output_type": "execute_result"
    }
   ],
   "source": [
    "patents['title_length'] = patents['title'].apply(lambda x: len(x.split()))\n",
    "patents"
   ]
  },
  {
   "cell_type": "markdown",
   "metadata": {},
   "source": [
    "### Part 8: Plot Histogram of Word counts"
   ]
  },
  {
   "cell_type": "code",
   "execution_count": 65,
   "metadata": {},
   "outputs": [
    {
     "data": {
      "image/png": "[encoded data removed]",
      "text/plain": [
       "<Figure size 432x288 with 1 Axes>"
      ]
     },
     "metadata": {
      "needs_background": "light"
     },
     "output_type": "display_data"
    }
   ],
   "source": [
    "patents.hist(column='title_length');"
   ]
  },
  {
   "cell_type": "markdown",
   "metadata": {},
   "source": [
    "## Log"
   ]
  },
  {
   "cell_type": "markdown",
   "metadata": {},
   "source": [
    "### Part 1: Number of Total Commits"
   ]
  },
  {
   "cell_type": "code",
   "execution_count": 16,
   "metadata": {},
   "outputs": [
    {
     "data": {
      "text/plain": [
       "542"
      ]
     },
     "execution_count": 16,
     "metadata": {},
     "output_type": "execute_result"
    }
   ],
   "source": [
    "f = open(\"data/git_log.log\" ,'r', encoding=\"utf8\")\n",
    "text = f.read()\n",
    "text.count('commit')"
   ]
  },
  {
   "cell_type": "markdown",
   "metadata": {},
   "source": [
    "### Part 2: Extract Developer name, Email, Commit Count and last commit date and create a Dataframe"
   ]
  },
  {
   "cell_type": "markdown",
   "metadata": {},
   "source": [
    "For this section, I used the codes from this [link](https://github.com/feststelltaste/software-analytics/blob/master/notebooks/Read%20in%20semi-structured%20data%20with%20pandas.ipynb)"
   ]
  },
  {
   "cell_type": "code",
   "execution_count": 99,
   "metadata": {},
   "outputs": [
    {
     "data": {
      "text/html": [
       "<div>\n",
       "<style scoped>\n",
       "    .dataframe tbody tr th:only-of-type {\n",
       "        vertical-align: middle;\n",
       "    }\n",
       "\n",
       "    .dataframe tbody tr th {\n",
       "        vertical-align: top;\n",
       "    }\n",
       "\n",
       "    .dataframe thead th {\n",
       "        text-align: right;\n",
       "    }\n",
       "</style>\n",
       "<table border=\"1\" class=\"dataframe\">\n",
       "  <thead>\n",
       "    <tr style=\"text-align: right;\">\n",
       "      <th></th>\n",
       "      <th>raw</th>\n",
       "    </tr>\n",
       "  </thead>\n",
       "  <tbody>\n",
       "    <tr>\n",
       "      <th>0</th>\n",
       "      <td>commit 4d3d9de655faa813781027d8b1baed819c6a56fe</td>\n",
       "    </tr>\n",
       "    <tr>\n",
       "      <th>1</th>\n",
       "      <td>Author: Markus Harrer &lt;feststelltaste@googlema...</td>\n",
       "    </tr>\n",
       "    <tr>\n",
       "      <th>2</th>\n",
       "      <td>Date:   Tue Mar 5 22:32:20 2019 +0100</td>\n",
       "    </tr>\n",
       "    <tr>\n",
       "      <th>3</th>\n",
       "      <td>add virtual bounded contexts</td>\n",
       "    </tr>\n",
       "    <tr>\n",
       "      <th>4</th>\n",
       "      <td>20\\t1\\tjqassistant/business.adoc</td>\n",
       "    </tr>\n",
       "  </tbody>\n",
       "</table>\n",
       "</div>"
      ],
      "text/plain": [
       "                                                 raw\n",
       "0    commit 4d3d9de655faa813781027d8b1baed819c6a56fe\n",
       "1  Author: Markus Harrer <feststelltaste@googlema...\n",
       "2              Date:   Tue Mar 5 22:32:20 2019 +0100\n",
       "3                       add virtual bounded contexts\n",
       "4                   20\\t1\\tjqassistant/business.adoc"
      ]
     },
     "execution_count": 99,
     "metadata": {},
     "output_type": "execute_result"
    }
   ],
   "source": [
    "import pandas as pd\n",
    "\n",
    "log = pd.read_csv(\n",
    "    \"data/git_log.log\",\n",
    "    sep=\"\\u0012\",\n",
    "    names=['raw'])\n",
    "log.head(5)"
   ]
  },
  {
   "cell_type": "markdown",
   "metadata": {},
   "source": [
    "Here I extreacted sha, author, timestamp, email and developer name from the raw column of dataframe which I have created from the log file:"
   ]
  },
  {
   "cell_type": "code",
   "execution_count": 100,
   "metadata": {},
   "outputs": [],
   "source": [
    "log['sha'] = log.loc[log['raw'].str.startswith(\"commit \")]['raw'].str.split(\"commit \").str[1]\n",
    "log['author'] = log.loc[log['raw'].str.startswith(\"Author: \")]['raw'].str.split(\"Author: \").str[1]\n",
    "log['timestamp'] = log.loc[log['raw'].str.startswith(\"Date: \")]['raw'].str.split(\"Date: \").str[1]\n",
    "temp = log.loc[log['author'].notnull()]['author'].str.split('<|>')\n",
    "log['email'] = temp.str[1]\n",
    "log['developer'] = temp.str[0]"
   ]
  },
  {
   "cell_type": "markdown",
   "metadata": {},
   "source": [
    "using fillna, I filled the NaN elements of sha column based on the corresponding value in the previous row."
   ]
  },
  {
   "cell_type": "code",
   "execution_count": 101,
   "metadata": {},
   "outputs": [],
   "source": [
    "log['sha'] = log['sha'].fillna(method=\"ffill\")"
   ]
  },
  {
   "cell_type": "markdown",
   "metadata": {},
   "source": [
    "The first line, grouping the elements by sha column and get first valid of each column developer, email and timestamp.\n",
    "\n",
    "The second line, calculate each developer's commit.\n",
    "\n",
    "The third line, calculate the last commit date.\n",
    "\n",
    "Two next lines defines commit_count and last_commit_date columns for the variable last which has information of each developer.\n",
    "\n",
    "Then delete timestamp column because we don't need it anymore.\n",
    "\n",
    "Finally reset the index of last variable and store the result of dataframe in info_df varible."
   ]
  },
  {
   "cell_type": "code",
   "execution_count": 104,
   "metadata": {},
   "outputs": [],
   "source": [
    "grop1 = log.groupby('sha')[['developer', 'email', 'timestamp']].first()\n",
    "counting = grop1.groupby('email')[['developer']].count()\n",
    "last = grop1.groupby('email')[['developer', 'timestamp']].last()\n",
    "last['commit_count'] = counting['developer']\n",
    "last['last_commit_date'] = last['timestamp']\n",
    "del(last['timestamp'])\n",
    "info_df = last.reset_index()"
   ]
  },
  {
   "cell_type": "markdown",
   "metadata": {},
   "source": [
    "print info_df dataframe to show each developer informatio:"
   ]
  },
  {
   "cell_type": "code",
   "execution_count": 105,
   "metadata": {},
   "outputs": [
    {
     "data": {
      "text/html": [
       "<div>\n",
       "<style scoped>\n",
       "    .dataframe tbody tr th:only-of-type {\n",
       "        vertical-align: middle;\n",
       "    }\n",
       "\n",
       "    .dataframe tbody tr th {\n",
       "        vertical-align: top;\n",
       "    }\n",
       "\n",
       "    .dataframe thead th {\n",
       "        text-align: right;\n",
       "    }\n",
       "</style>\n",
       "<table border=\"1\" class=\"dataframe\">\n",
       "  <thead>\n",
       "    <tr style=\"text-align: right;\">\n",
       "      <th></th>\n",
       "      <th>email</th>\n",
       "      <th>developer</th>\n",
       "      <th>commit_count</th>\n",
       "      <th>last_commit_date</th>\n",
       "    </tr>\n",
       "  </thead>\n",
       "  <tbody>\n",
       "    <tr>\n",
       "      <th>0</th>\n",
       "      <td>Andrej1</td>\n",
       "      <td>AndrejGajdos</td>\n",
       "      <td>1</td>\n",
       "      <td>Thu Jul 28 13:50:07 2016 +0200</td>\n",
       "    </tr>\n",
       "    <tr>\n",
       "      <th>1</th>\n",
       "      <td>JavaOnAutobahn@users.noreply.github.com</td>\n",
       "      <td>JavaOnAutobahn</td>\n",
       "      <td>5</td>\n",
       "      <td>Fri Feb 9 13:55:25 2018 +0100</td>\n",
       "    </tr>\n",
       "    <tr>\n",
       "      <th>2</th>\n",
       "      <td>ameya@ccs.neu.edu</td>\n",
       "      <td>Ameya Pandilwar</td>\n",
       "      <td>1</td>\n",
       "      <td>Sun Feb 7 18:31:11 2016 -0500</td>\n",
       "    </tr>\n",
       "    <tr>\n",
       "      <th>3</th>\n",
       "      <td>ameya@pandilwar.com</td>\n",
       "      <td>Ameya Pandilwar</td>\n",
       "      <td>1</td>\n",
       "      <td>Sun Jun 19 02:23:53 2016 -0400</td>\n",
       "    </tr>\n",
       "    <tr>\n",
       "      <th>4</th>\n",
       "      <td>antoine.rey@free.fr</td>\n",
       "      <td>Antoine Rey</td>\n",
       "      <td>41</td>\n",
       "      <td>Tue Jun 9 08:40:49 2015 +0200</td>\n",
       "    </tr>\n",
       "    <tr>\n",
       "      <th>5</th>\n",
       "      <td>antoine.rey@gmail.com</td>\n",
       "      <td>Antoine Rey</td>\n",
       "      <td>23</td>\n",
       "      <td>Wed Aug 10 18:08:06 2016 +0200</td>\n",
       "    </tr>\n",
       "    <tr>\n",
       "      <th>6</th>\n",
       "      <td>armagan.ersoz@gmail.com</td>\n",
       "      <td>kadinyazilimci</td>\n",
       "      <td>1</td>\n",
       "      <td>Thu Feb 25 09:36:20 2016 +1000</td>\n",
       "    </tr>\n",
       "    <tr>\n",
       "      <th>7</th>\n",
       "      <td>attilio@attil.io</td>\n",
       "      <td>Attilio</td>\n",
       "      <td>1</td>\n",
       "      <td>Wed Jun 15 22:46:47 2016 +0200</td>\n",
       "    </tr>\n",
       "    <tr>\n",
       "      <th>8</th>\n",
       "      <td>boly38@gmail.com</td>\n",
       "      <td>boly38</td>\n",
       "      <td>1</td>\n",
       "      <td>Fri Jul 12 10:22:38 2013 +0200</td>\n",
       "    </tr>\n",
       "    <tr>\n",
       "      <th>9</th>\n",
       "      <td>bram@mire.be</td>\n",
       "      <td>Bram Luyten</td>\n",
       "      <td>1</td>\n",
       "      <td>Sun May 11 18:37:42 2014 +0200</td>\n",
       "    </tr>\n",
       "    <tr>\n",
       "      <th>10</th>\n",
       "      <td>cbeams@vmware.com</td>\n",
       "      <td>Chris Beams</td>\n",
       "      <td>1</td>\n",
       "      <td>Thu Sep 2 07:51:24 2010 +0000</td>\n",
       "    </tr>\n",
       "    <tr>\n",
       "      <th>11</th>\n",
       "      <td>cleau@vmware.com</td>\n",
       "      <td>Costin Leau</td>\n",
       "      <td>28</td>\n",
       "      <td>Thu Feb 4 19:07:55 2010 +0000</td>\n",
       "    </tr>\n",
       "    <tr>\n",
       "      <th>12</th>\n",
       "      <td>colinbut@users.noreply.github.com</td>\n",
       "      <td>Colin But</td>\n",
       "      <td>1</td>\n",
       "      <td>Fri Nov 20 13:56:44 2015 +0000</td>\n",
       "    </tr>\n",
       "    <tr>\n",
       "      <th>13</th>\n",
       "      <td>craigsdennis@gmail.com</td>\n",
       "      <td>Craig Dennis</td>\n",
       "      <td>1</td>\n",
       "      <td>Mon Jul 7 21:19:40 2014 -0700</td>\n",
       "    </tr>\n",
       "    <tr>\n",
       "      <th>14</th>\n",
       "      <td>cyrille@cyrilleleclerc.com</td>\n",
       "      <td>Cyrille Le Clerc</td>\n",
       "      <td>5</td>\n",
       "      <td>Fri Jun 14 07:18:33 2013 +0300</td>\n",
       "    </tr>\n",
       "    <tr>\n",
       "      <th>15</th>\n",
       "      <td>dirk.mahler@asml.com</td>\n",
       "      <td>Dirk Mahler</td>\n",
       "      <td>4</td>\n",
       "      <td>Tue Oct 27 17:49:23 2015 +0100</td>\n",
       "    </tr>\n",
       "    <tr>\n",
       "      <th>16</th>\n",
       "      <td>dirk.mahler@buschmais.com</td>\n",
       "      <td>Dirk Mahler</td>\n",
       "      <td>55</td>\n",
       "      <td>Fri Oct 6 11:28:13 2017 +0200</td>\n",
       "    </tr>\n",
       "    <tr>\n",
       "      <th>17</th>\n",
       "      <td>dirk.mahler@globalfoundries.com</td>\n",
       "      <td>dmahler</td>\n",
       "      <td>2</td>\n",
       "      <td>Mon Nov 7 16:55:28 2016 +0100</td>\n",
       "    </tr>\n",
       "    <tr>\n",
       "      <th>18</th>\n",
       "      <td>faisal.hameed@devfactory.com</td>\n",
       "      <td>Faisal Hameed</td>\n",
       "      <td>1</td>\n",
       "      <td>Sat Apr 23 23:31:51 2016 +0500</td>\n",
       "    </tr>\n",
       "    <tr>\n",
       "      <th>19</th>\n",
       "      <td>faycal.ihabritane@atos.net</td>\n",
       "      <td>IHABRITANE</td>\n",
       "      <td>1</td>\n",
       "      <td>Mon Jan 25 17:21:19 2016 +0000</td>\n",
       "    </tr>\n",
       "    <tr>\n",
       "      <th>20</th>\n",
       "      <td>feststelltaste@googlemail.com</td>\n",
       "      <td>Markus Harrer</td>\n",
       "      <td>29</td>\n",
       "      <td>Thu Nov 15 18:38:55 2018 +0100</td>\n",
       "    </tr>\n",
       "    <tr>\n",
       "      <th>21</th>\n",
       "      <td>feststelltaste@users.noreply.github.com</td>\n",
       "      <td>Markus</td>\n",
       "      <td>4</td>\n",
       "      <td>Sat Oct 28 11:37:26 2017 +0200</td>\n",
       "    </tr>\n",
       "    <tr>\n",
       "      <th>22</th>\n",
       "      <td>gordon@gordondickens.com</td>\n",
       "      <td>Gordon Dickens</td>\n",
       "      <td>5</td>\n",
       "      <td>Tue Feb 19 10:20:11 2013 -0500</td>\n",
       "    </tr>\n",
       "    <tr>\n",
       "      <th>23</th>\n",
       "      <td>jdubois@ippon.fr</td>\n",
       "      <td>Julien Dubois</td>\n",
       "      <td>2</td>\n",
       "      <td>Mon Feb 25 22:40:24 2013 +0100</td>\n",
       "    </tr>\n",
       "    <tr>\n",
       "      <th>24</th>\n",
       "      <td>joe+github@freemansoft.com</td>\n",
       "      <td>Joe Freeman</td>\n",
       "      <td>3</td>\n",
       "      <td>Mon Sep 28 23:45:26 2015 -0400</td>\n",
       "    </tr>\n",
       "    <tr>\n",
       "      <th>25</th>\n",
       "      <td>kdonald@vmware.com</td>\n",
       "      <td>Keith Donald</td>\n",
       "      <td>35</td>\n",
       "      <td>Tue May 5 17:22:49 2009 +0000</td>\n",
       "    </tr>\n",
       "    <tr>\n",
       "      <th>26</th>\n",
       "      <td>liuxx@cn.ibm.com</td>\n",
       "      <td>XIAO XI LIU</td>\n",
       "      <td>1</td>\n",
       "      <td>Tue Apr 5 07:04:33 2016 +0800</td>\n",
       "    </tr>\n",
       "    <tr>\n",
       "      <th>27</th>\n",
       "      <td>lukasz-szewc@users.noreply.github.com</td>\n",
       "      <td>lukasz-szewc</td>\n",
       "      <td>1</td>\n",
       "      <td>Sat Mar 5 18:50:45 2016 +0100</td>\n",
       "    </tr>\n",
       "    <tr>\n",
       "      <th>28</th>\n",
       "      <td>martin.klose@klosebrothers.de</td>\n",
       "      <td>mklose</td>\n",
       "      <td>1</td>\n",
       "      <td>Wed Apr 1 16:39:51 2015 +0200</td>\n",
       "    </tr>\n",
       "    <tr>\n",
       "      <th>29</th>\n",
       "      <td>meltsufin@google.com</td>\n",
       "      <td>Mike Eltsufin</td>\n",
       "      <td>1</td>\n",
       "      <td>Fri Jul 22 11:31:12 2016 -0400</td>\n",
       "    </tr>\n",
       "    <tr>\n",
       "      <th>30</th>\n",
       "      <td>misvy@gopivotal,com</td>\n",
       "      <td>michaelisvy</td>\n",
       "      <td>52</td>\n",
       "      <td>Mon May 11 08:39:59 2015 +0800</td>\n",
       "    </tr>\n",
       "    <tr>\n",
       "      <th>31</th>\n",
       "      <td>misvy@vmware.com</td>\n",
       "      <td>Mic</td>\n",
       "      <td>206</td>\n",
       "      <td>Tue Jan 15 10:38:24 2013 +0800</td>\n",
       "    </tr>\n",
       "    <tr>\n",
       "      <th>32</th>\n",
       "      <td>o.b.fischer@swe-blog.net</td>\n",
       "      <td>Oliver B. Fischer</td>\n",
       "      <td>2</td>\n",
       "      <td>Thu Sep 15 23:22:51 2016 +0200</td>\n",
       "    </tr>\n",
       "    <tr>\n",
       "      <th>33</th>\n",
       "      <td>patrick.crocker@gmail.com</td>\n",
       "      <td>patrickcrocker</td>\n",
       "      <td>1</td>\n",
       "      <td>Fri Feb 19 14:49:30 2016 -0600</td>\n",
       "    </tr>\n",
       "    <tr>\n",
       "      <th>34</th>\n",
       "      <td>rstoyanchev@vmware.com</td>\n",
       "      <td>Rossen Stoyanchev</td>\n",
       "      <td>2</td>\n",
       "      <td>Mon Mar 19 16:32:05 2012 +0000</td>\n",
       "    </tr>\n",
       "    <tr>\n",
       "      <th>35</th>\n",
       "      <td>slp.vld@gmail.com</td>\n",
       "      <td>Vlad Selpukhin</td>\n",
       "      <td>1</td>\n",
       "      <td>Thu Apr 23 15:43:48 2015 +0300</td>\n",
       "    </tr>\n",
       "    <tr>\n",
       "      <th>36</th>\n",
       "      <td>srenkens@gmail.com</td>\n",
       "      <td>srenkens</td>\n",
       "      <td>1</td>\n",
       "      <td>Fri Jun 5 12:37:46 2015 +0200</td>\n",
       "    </tr>\n",
       "    <tr>\n",
       "      <th>37</th>\n",
       "      <td>tejasmehta0@gmail.com</td>\n",
       "      <td>TejasM</td>\n",
       "      <td>1</td>\n",
       "      <td>Mon May 27 14:28:24 2013 -0400</td>\n",
       "    </tr>\n",
       "    <tr>\n",
       "      <th>38</th>\n",
       "      <td>thibault.duchateau@gmail.com</td>\n",
       "      <td>Thibault Duchateau</td>\n",
       "      <td>5</td>\n",
       "      <td>Sun Jun 1 12:50:08 2014 +0200</td>\n",
       "    </tr>\n",
       "    <tr>\n",
       "      <th>39</th>\n",
       "      <td>thinkshihang@gmail.com</td>\n",
       "      <td>thinksh</td>\n",
       "      <td>1</td>\n",
       "      <td>Wed Feb 3 23:19:46 2016 -0500</td>\n",
       "    </tr>\n",
       "    <tr>\n",
       "      <th>40</th>\n",
       "      <td>trepel@redhat.com</td>\n",
       "      <td>Tomas Repel</td>\n",
       "      <td>5</td>\n",
       "      <td>Fri Oct 2 11:33:57 2015 +0200</td>\n",
       "    </tr>\n",
       "    <tr>\n",
       "      <th>41</th>\n",
       "      <td>trisberg@vmware.com</td>\n",
       "      <td>Thomas Risberg</td>\n",
       "      <td>1</td>\n",
       "      <td>Mon Dec 14 22:13:04 2009 +0000</td>\n",
       "    </tr>\n",
       "    <tr>\n",
       "      <th>42</th>\n",
       "      <td>verydapeng@gmail.com</td>\n",
       "      <td>Dapeng</td>\n",
       "      <td>1</td>\n",
       "      <td>Mon Jun 27 17:06:47 2016 +0800</td>\n",
       "    </tr>\n",
       "  </tbody>\n",
       "</table>\n",
       "</div>"
      ],
      "text/plain": [
       "                                      email            developer  \\\n",
       "0                                   Andrej1        AndrejGajdos    \n",
       "1   JavaOnAutobahn@users.noreply.github.com      JavaOnAutobahn    \n",
       "2                         ameya@ccs.neu.edu     Ameya Pandilwar    \n",
       "3                       ameya@pandilwar.com     Ameya Pandilwar    \n",
       "4                       antoine.rey@free.fr         Antoine Rey    \n",
       "5                     antoine.rey@gmail.com         Antoine Rey    \n",
       "6                   armagan.ersoz@gmail.com      kadinyazilimci    \n",
       "7                          attilio@attil.io             Attilio    \n",
       "8                          boly38@gmail.com              boly38    \n",
       "9                              bram@mire.be         Bram Luyten    \n",
       "10                        cbeams@vmware.com         Chris Beams    \n",
       "11                         cleau@vmware.com         Costin Leau    \n",
       "12        colinbut@users.noreply.github.com           Colin But    \n",
       "13                   craigsdennis@gmail.com        Craig Dennis    \n",
       "14               cyrille@cyrilleleclerc.com    Cyrille Le Clerc    \n",
       "15                     dirk.mahler@asml.com         Dirk Mahler    \n",
       "16                dirk.mahler@buschmais.com         Dirk Mahler    \n",
       "17          dirk.mahler@globalfoundries.com             dmahler    \n",
       "18             faisal.hameed@devfactory.com       Faisal Hameed    \n",
       "19               faycal.ihabritane@atos.net          IHABRITANE    \n",
       "20            feststelltaste@googlemail.com       Markus Harrer    \n",
       "21  feststelltaste@users.noreply.github.com              Markus    \n",
       "22                 gordon@gordondickens.com      Gordon Dickens    \n",
       "23                         jdubois@ippon.fr       Julien Dubois    \n",
       "24               joe+github@freemansoft.com         Joe Freeman    \n",
       "25                       kdonald@vmware.com        Keith Donald    \n",
       "26                         liuxx@cn.ibm.com         XIAO XI LIU    \n",
       "27    lukasz-szewc@users.noreply.github.com        lukasz-szewc    \n",
       "28            martin.klose@klosebrothers.de              mklose    \n",
       "29                     meltsufin@google.com       Mike Eltsufin    \n",
       "30                      misvy@gopivotal,com         michaelisvy    \n",
       "31                         misvy@vmware.com                 Mic    \n",
       "32                 o.b.fischer@swe-blog.net   Oliver B. Fischer    \n",
       "33                patrick.crocker@gmail.com      patrickcrocker    \n",
       "34                   rstoyanchev@vmware.com   Rossen Stoyanchev    \n",
       "35                        slp.vld@gmail.com      Vlad Selpukhin    \n",
       "36                       srenkens@gmail.com            srenkens    \n",
       "37                    tejasmehta0@gmail.com              TejasM    \n",
       "38             thibault.duchateau@gmail.com  Thibault Duchateau    \n",
       "39                   thinkshihang@gmail.com             thinksh    \n",
       "40                        trepel@redhat.com         Tomas Repel    \n",
       "41                      trisberg@vmware.com      Thomas Risberg    \n",
       "42                     verydapeng@gmail.com              Dapeng    \n",
       "\n",
       "    commit_count                  last_commit_date  \n",
       "0              1    Thu Jul 28 13:50:07 2016 +0200  \n",
       "1              5     Fri Feb 9 13:55:25 2018 +0100  \n",
       "2              1     Sun Feb 7 18:31:11 2016 -0500  \n",
       "3              1    Sun Jun 19 02:23:53 2016 -0400  \n",
       "4             41     Tue Jun 9 08:40:49 2015 +0200  \n",
       "5             23    Wed Aug 10 18:08:06 2016 +0200  \n",
       "6              1    Thu Feb 25 09:36:20 2016 +1000  \n",
       "7              1    Wed Jun 15 22:46:47 2016 +0200  \n",
       "8              1    Fri Jul 12 10:22:38 2013 +0200  \n",
       "9              1    Sun May 11 18:37:42 2014 +0200  \n",
       "10             1     Thu Sep 2 07:51:24 2010 +0000  \n",
       "11            28     Thu Feb 4 19:07:55 2010 +0000  \n",
       "12             1    Fri Nov 20 13:56:44 2015 +0000  \n",
       "13             1     Mon Jul 7 21:19:40 2014 -0700  \n",
       "14             5    Fri Jun 14 07:18:33 2013 +0300  \n",
       "15             4    Tue Oct 27 17:49:23 2015 +0100  \n",
       "16            55     Fri Oct 6 11:28:13 2017 +0200  \n",
       "17             2     Mon Nov 7 16:55:28 2016 +0100  \n",
       "18             1    Sat Apr 23 23:31:51 2016 +0500  \n",
       "19             1    Mon Jan 25 17:21:19 2016 +0000  \n",
       "20            29    Thu Nov 15 18:38:55 2018 +0100  \n",
       "21             4    Sat Oct 28 11:37:26 2017 +0200  \n",
       "22             5    Tue Feb 19 10:20:11 2013 -0500  \n",
       "23             2    Mon Feb 25 22:40:24 2013 +0100  \n",
       "24             3    Mon Sep 28 23:45:26 2015 -0400  \n",
       "25            35     Tue May 5 17:22:49 2009 +0000  \n",
       "26             1     Tue Apr 5 07:04:33 2016 +0800  \n",
       "27             1     Sat Mar 5 18:50:45 2016 +0100  \n",
       "28             1     Wed Apr 1 16:39:51 2015 +0200  \n",
       "29             1    Fri Jul 22 11:31:12 2016 -0400  \n",
       "30            52    Mon May 11 08:39:59 2015 +0800  \n",
       "31           206    Tue Jan 15 10:38:24 2013 +0800  \n",
       "32             2    Thu Sep 15 23:22:51 2016 +0200  \n",
       "33             1    Fri Feb 19 14:49:30 2016 -0600  \n",
       "34             2    Mon Mar 19 16:32:05 2012 +0000  \n",
       "35             1    Thu Apr 23 15:43:48 2015 +0300  \n",
       "36             1     Fri Jun 5 12:37:46 2015 +0200  \n",
       "37             1    Mon May 27 14:28:24 2013 -0400  \n",
       "38             5     Sun Jun 1 12:50:08 2014 +0200  \n",
       "39             1     Wed Feb 3 23:19:46 2016 -0500  \n",
       "40             5     Fri Oct 2 11:33:57 2015 +0200  \n",
       "41             1    Mon Dec 14 22:13:04 2009 +0000  \n",
       "42             1    Mon Jun 27 17:06:47 2016 +0800  "
      ]
     },
     "execution_count": 105,
     "metadata": {},
     "output_type": "execute_result"
    }
   ],
   "source": [
    "info_df"
   ]
  },
  {
   "cell_type": "markdown",
   "metadata": {},
   "source": [
    "### Part 3: Developers with Maximum and Minimum Commit count"
   ]
  },
  {
   "cell_type": "code",
   "execution_count": 135,
   "metadata": {},
   "outputs": [
    {
     "name": "stdout",
     "output_type": "stream",
     "text": [
      "Developer with maximum commit count:\n",
      " 31    Mic \n",
      "Name: developer, dtype: object\n",
      "Developer with minimum commit count:\n",
      " 0        AndrejGajdos \n",
      "2     Ameya Pandilwar \n",
      "3     Ameya Pandilwar \n",
      "6      kadinyazilimci \n",
      "7             Attilio \n",
      "8              boly38 \n",
      "9         Bram Luyten \n",
      "10        Chris Beams \n",
      "12          Colin But \n",
      "13       Craig Dennis \n",
      "18      Faisal Hameed \n",
      "19         IHABRITANE \n",
      "26        XIAO XI LIU \n",
      "27       lukasz-szewc \n",
      "28             mklose \n",
      "29      Mike Eltsufin \n",
      "33     patrickcrocker \n",
      "35     Vlad Selpukhin \n",
      "36           srenkens \n",
      "37             TejasM \n",
      "39            thinksh \n",
      "41     Thomas Risberg \n",
      "42             Dapeng \n",
      "Name: developer, dtype: object\n"
     ]
    }
   ],
   "source": [
    "max_commit = info_df.loc[info_df['commit_count'] == info_df['commit_count'].max(), 'developer']\n",
    "min_commit = info_df.loc[info_df['commit_count'] == info_df['commit_count'].min(), 'developer']\n",
    "print(f'Developer with maximum commit count:\\n {max_commit}')\n",
    "print(f'Developer with minimum commit count:\\n {min_commit}')"
   ]
  },
  {
   "cell_type": "markdown",
   "metadata": {},
   "source": [
    "## Json"
   ]
  },
  {
   "cell_type": "markdown",
   "metadata": {},
   "source": [
    "### Part 1: Create Dataframe from Json files"
   ]
  },
  {
   "cell_type": "markdown",
   "metadata": {},
   "source": [
    "Get all file's name in folder data/Videos using os.walk and then store them in a list"
   ]
  },
  {
   "cell_type": "code",
   "execution_count": 109,
   "metadata": {},
   "outputs": [],
   "source": [
    "import os\n",
    "list_of_files = list(os.walk('data/Videos'))[0][2]"
   ]
  },
  {
   "cell_type": "markdown",
   "metadata": {},
   "source": [
    "Here we have a for loop to open and read each file in the list we created in the previous part.\n",
    "\n",
    "Using json.loads, we can parse a sjson file and convert it into a dictionary. So we can extract data from it easily."
   ]
  },
  {
   "cell_type": "code",
   "execution_count": 112,
   "metadata": {},
   "outputs": [],
   "source": [
    "import json\n",
    "from datetime import datetime\n",
    "movies = {'Title':[], 'Lang':[], 'Record_date':[], 'url':[], 'Description':[],\n",
    "         'Category':[], 'Tags':[], 'Speakers':[], 'Duration':[]}\n",
    "for file in list_of_files:\n",
    "    f = open(f'data/Videos/{file}', 'r')\n",
    "    data = f.read()\n",
    "    info = json.loads(data)\n",
    "    movies['Title'].append(info.get('title'))\n",
    "    movies['Lang'].append(info.get('language'))\n",
    "    movies['Record_date'].append(datetime.strptime(info.get('recorded'), '%Y-%m-%d'))\n",
    "    movies['url'].append(info.get('videos'))\n",
    "    movies['Description'].append(info.get('description'))\n",
    "    movies['Category'].append(info.get('category'))\n",
    "    movies['Tags'].append(info.get('tags'))\n",
    "    movies['Speakers'].append(info.get('speakers'))\n",
    "    movies['Duration'].append(info.get('duration'))\n",
    "df_movies = pd.DataFrame(movies)"
   ]
  },
  {
   "cell_type": "code",
   "execution_count": 113,
   "metadata": {},
   "outputs": [
    {
     "data": {
      "text/html": [
       "<div>\n",
       "<style scoped>\n",
       "    .dataframe tbody tr th:only-of-type {\n",
       "        vertical-align: middle;\n",
       "    }\n",
       "\n",
       "    .dataframe tbody tr th {\n",
       "        vertical-align: top;\n",
       "    }\n",
       "\n",
       "    .dataframe thead th {\n",
       "        text-align: right;\n",
       "    }\n",
       "</style>\n",
       "<table border=\"1\" class=\"dataframe\">\n",
       "  <thead>\n",
       "    <tr style=\"text-align: right;\">\n",
       "      <th></th>\n",
       "      <th>Title</th>\n",
       "      <th>Lang</th>\n",
       "      <th>Record_date</th>\n",
       "      <th>url</th>\n",
       "      <th>Description</th>\n",
       "      <th>Category</th>\n",
       "      <th>Tags</th>\n",
       "      <th>Speakers</th>\n",
       "      <th>Duration</th>\n",
       "    </tr>\n",
       "  </thead>\n",
       "  <tbody>\n",
       "    <tr>\n",
       "      <th>0</th>\n",
       "      <td>3D Print Anything with the Blender API</td>\n",
       "      <td>eng</td>\n",
       "      <td>2015-04-11</td>\n",
       "      <td>[{'length': 0, 'type': 'youtube', 'url': 'http...</td>\n",
       "      <td></td>\n",
       "      <td>PyCon US 2015</td>\n",
       "      <td>[]</td>\n",
       "      <td>[Jenny Cheng]</td>\n",
       "      <td>NaN</td>\n",
       "    </tr>\n",
       "    <tr>\n",
       "      <th>1</th>\n",
       "      <td>A Beginner's Guide to Test-driven Development</td>\n",
       "      <td>eng</td>\n",
       "      <td>2015-04-11</td>\n",
       "      <td>[{'length': 0, 'type': 'youtube', 'url': 'http...</td>\n",
       "      <td>Software is maintained by humans with limited ...</td>\n",
       "      <td>PyCon US 2015</td>\n",
       "      <td>[]</td>\n",
       "      <td>[Itamar Turner-Trauring]</td>\n",
       "      <td>NaN</td>\n",
       "    </tr>\n",
       "    <tr>\n",
       "      <th>2</th>\n",
       "      <td>A lightning look at O'Reilly's Python books</td>\n",
       "      <td>eng</td>\n",
       "      <td>2014-12-11</td>\n",
       "      <td>[{'type': 'archive.org', 'url': 'https://archi...</td>\n",
       "      <td>Wouldn't it be awesome if ChiPy wrote its own ...</td>\n",
       "      <td>ChiPy</td>\n",
       "      <td>[lightning talks]</td>\n",
       "      <td>[Tanya Schlusser]</td>\n",
       "      <td>900.0</td>\n",
       "    </tr>\n",
       "    <tr>\n",
       "      <th>3</th>\n",
       "      <td>A Talk on Giving a Pythonic Talk</td>\n",
       "      <td>eng</td>\n",
       "      <td>2015-03-12</td>\n",
       "      <td>[{'type': 'archive.org', 'url': 'https://archi...</td>\n",
       "      <td>Xan Vongsathorn and Catherine Vongsathorn will...</td>\n",
       "      <td>ChiPy</td>\n",
       "      <td>[]</td>\n",
       "      <td>[Catherine Vongsathorn, Xan Vongsathorn]</td>\n",
       "      <td>1500.0</td>\n",
       "    </tr>\n",
       "    <tr>\n",
       "      <th>4</th>\n",
       "      <td>A Visual Guide To Pandas</td>\n",
       "      <td>eng</td>\n",
       "      <td>2013-12-12</td>\n",
       "      <td>[{'type': 'archive.org', 'url': 'https://archi...</td>\n",
       "      <td></td>\n",
       "      <td>ChiPy</td>\n",
       "      <td>[]</td>\n",
       "      <td>[Jason Wirth]</td>\n",
       "      <td>30.0</td>\n",
       "    </tr>\n",
       "    <tr>\n",
       "      <th>...</th>\n",
       "      <td>...</td>\n",
       "      <td>...</td>\n",
       "      <td>...</td>\n",
       "      <td>...</td>\n",
       "      <td>...</td>\n",
       "      <td>...</td>\n",
       "      <td>...</td>\n",
       "      <td>...</td>\n",
       "      <td>...</td>\n",
       "    </tr>\n",
       "    <tr>\n",
       "      <th>239</th>\n",
       "      <td>Who saved The Onion, from being hacked by \"Syr...</td>\n",
       "      <td>eng</td>\n",
       "      <td>2013-05-09</td>\n",
       "      <td>[{'type': 'mp4', 'url': 'http://s3.us.archive....</td>\n",
       "      <td></td>\n",
       "      <td>ChiPy</td>\n",
       "      <td>[]</td>\n",
       "      <td>[Sean Bloomfield]</td>\n",
       "      <td>5.0</td>\n",
       "    </tr>\n",
       "    <tr>\n",
       "      <th>240</th>\n",
       "      <td>Winning Machine Learning Competitions With Sci...</td>\n",
       "      <td>eng</td>\n",
       "      <td>2015-04-10</td>\n",
       "      <td>[{'length': 0, 'type': 'youtube', 'url': 'http...</td>\n",
       "      <td>This tutorial will offer an introduction machi...</td>\n",
       "      <td>PyCon US 2015</td>\n",
       "      <td>[]</td>\n",
       "      <td>[Ben Hamner]</td>\n",
       "      <td>NaN</td>\n",
       "    </tr>\n",
       "    <tr>\n",
       "      <th>241</th>\n",
       "      <td>\"Words, words, words\": Reading Shakespeare wit...</td>\n",
       "      <td>eng</td>\n",
       "      <td>2015-04-11</td>\n",
       "      <td>[{'length': 0, 'type': 'youtube', 'url': 'http...</td>\n",
       "      <td>This talk will give an introduction to text an...</td>\n",
       "      <td>PyCon US 2015</td>\n",
       "      <td>[]</td>\n",
       "      <td>[Adam Palay]</td>\n",
       "      <td>NaN</td>\n",
       "    </tr>\n",
       "    <tr>\n",
       "      <th>242</th>\n",
       "      <td>Your Brain's API: Giving and Getting Technical...</td>\n",
       "      <td>eng</td>\n",
       "      <td>2015-04-12</td>\n",
       "      <td>[{'length': 0, 'type': 'youtube', 'url': 'http...</td>\n",
       "      <td>Software engineers are never done learning sin...</td>\n",
       "      <td>PyCon US 2015</td>\n",
       "      <td>[]</td>\n",
       "      <td>[Sasha Laundy]</td>\n",
       "      <td>NaN</td>\n",
       "    </tr>\n",
       "    <tr>\n",
       "      <th>243</th>\n",
       "      <td>Zen of Quality</td>\n",
       "      <td>eng</td>\n",
       "      <td>2015-04-12</td>\n",
       "      <td>[{'length': 0, 'type': 'youtube', 'url': 'http...</td>\n",
       "      <td>It is extremely important to PBS that digital ...</td>\n",
       "      <td>PyCon US 2015</td>\n",
       "      <td>[]</td>\n",
       "      <td>[Mike Howsden]</td>\n",
       "      <td>NaN</td>\n",
       "    </tr>\n",
       "  </tbody>\n",
       "</table>\n",
       "<p>244 rows × 9 columns</p>\n",
       "</div>"
      ],
      "text/plain": [
       "                                                 Title Lang Record_date  \\\n",
       "0               3D Print Anything with the Blender API  eng  2015-04-11   \n",
       "1        A Beginner's Guide to Test-driven Development  eng  2015-04-11   \n",
       "2          A lightning look at O'Reilly's Python books  eng  2014-12-11   \n",
       "3                    A Talk on Giving a Pythonic Talk   eng  2015-03-12   \n",
       "4                             A Visual Guide To Pandas  eng  2013-12-12   \n",
       "..                                                 ...  ...         ...   \n",
       "239  Who saved The Onion, from being hacked by \"Syr...  eng  2013-05-09   \n",
       "240  Winning Machine Learning Competitions With Sci...  eng  2015-04-10   \n",
       "241  \"Words, words, words\": Reading Shakespeare wit...  eng  2015-04-11   \n",
       "242  Your Brain's API: Giving and Getting Technical...  eng  2015-04-12   \n",
       "243                                     Zen of Quality  eng  2015-04-12   \n",
       "\n",
       "                                                   url  \\\n",
       "0    [{'length': 0, 'type': 'youtube', 'url': 'http...   \n",
       "1    [{'length': 0, 'type': 'youtube', 'url': 'http...   \n",
       "2    [{'type': 'archive.org', 'url': 'https://archi...   \n",
       "3    [{'type': 'archive.org', 'url': 'https://archi...   \n",
       "4    [{'type': 'archive.org', 'url': 'https://archi...   \n",
       "..                                                 ...   \n",
       "239  [{'type': 'mp4', 'url': 'http://s3.us.archive....   \n",
       "240  [{'length': 0, 'type': 'youtube', 'url': 'http...   \n",
       "241  [{'length': 0, 'type': 'youtube', 'url': 'http...   \n",
       "242  [{'length': 0, 'type': 'youtube', 'url': 'http...   \n",
       "243  [{'length': 0, 'type': 'youtube', 'url': 'http...   \n",
       "\n",
       "                                           Description       Category  \\\n",
       "0                                                       PyCon US 2015   \n",
       "1    Software is maintained by humans with limited ...  PyCon US 2015   \n",
       "2    Wouldn't it be awesome if ChiPy wrote its own ...          ChiPy   \n",
       "3    Xan Vongsathorn and Catherine Vongsathorn will...          ChiPy   \n",
       "4                                                               ChiPy   \n",
       "..                                                 ...            ...   \n",
       "239                                                             ChiPy   \n",
       "240  This tutorial will offer an introduction machi...  PyCon US 2015   \n",
       "241  This talk will give an introduction to text an...  PyCon US 2015   \n",
       "242  Software engineers are never done learning sin...  PyCon US 2015   \n",
       "243  It is extremely important to PBS that digital ...  PyCon US 2015   \n",
       "\n",
       "                  Tags                                  Speakers  Duration  \n",
       "0                   []                             [Jenny Cheng]       NaN  \n",
       "1                   []                  [Itamar Turner-Trauring]       NaN  \n",
       "2    [lightning talks]                         [Tanya Schlusser]     900.0  \n",
       "3                   []  [Catherine Vongsathorn, Xan Vongsathorn]    1500.0  \n",
       "4                   []                             [Jason Wirth]      30.0  \n",
       "..                 ...                                       ...       ...  \n",
       "239                 []                         [Sean Bloomfield]       5.0  \n",
       "240                 []                              [Ben Hamner]       NaN  \n",
       "241                 []                              [Adam Palay]       NaN  \n",
       "242                 []                            [Sasha Laundy]       NaN  \n",
       "243                 []                            [Mike Howsden]       NaN  \n",
       "\n",
       "[244 rows x 9 columns]"
      ]
     },
     "execution_count": 113,
     "metadata": {},
     "output_type": "execute_result"
    }
   ],
   "source": [
    "df_movies"
   ]
  },
  {
   "cell_type": "markdown",
   "metadata": {},
   "source": [
    "### Part 2: Handle Missing Values"
   ]
  },
  {
   "cell_type": "markdown",
   "metadata": {},
   "source": [
    "First counting the number of NaN in each column"
   ]
  },
  {
   "cell_type": "code",
   "execution_count": 115,
   "metadata": {},
   "outputs": [
    {
     "data": {
      "text/plain": [
       "Title            0\n",
       "Lang             0\n",
       "Record_date      0\n",
       "url              0\n",
       "Description      0\n",
       "Category        35\n",
       "Tags             5\n",
       "Speakers         0\n",
       "Duration       176\n",
       "dtype: int64"
      ]
     },
     "execution_count": 115,
     "metadata": {},
     "output_type": "execute_result"
    }
   ],
   "source": [
    "df_movies.isna().sum(axis=0)"
   ]
  },
  {
   "cell_type": "code",
   "execution_count": 116,
   "metadata": {},
   "outputs": [],
   "source": [
    "df_movies[['Category']] = df_movies[['Category']].fillna(value='Uncategorized')\n",
    "df_movies[['Tags']] = df_movies[['Tags']].fillna(value='[]')\n",
    "df_movies[['Duration']] = df_movies[['Duration']].fillna(value=df_movies[['Duration']].min())"
   ]
  },
  {
   "cell_type": "markdown",
   "metadata": {},
   "source": [
    "### Part 3: Title of videos published in 2016"
   ]
  },
  {
   "cell_type": "code",
   "execution_count": 117,
   "metadata": {},
   "outputs": [
    {
     "data": {
      "text/plain": [
       "25                               ChiPy Python Mentorship\n",
       "169    Python-based data science to understand knowle...\n",
       "212         The wonder and the horror of the mock module\n",
       "Name: Title, dtype: object"
      ]
     },
     "execution_count": 117,
     "metadata": {},
     "output_type": "execute_result"
    }
   ],
   "source": [
    "df_movies.loc[pd.DatetimeIndex(df_movies['Record_date']).year == 2016, 'Title']"
   ]
  },
  {
   "cell_type": "markdown",
   "metadata": {},
   "source": [
    "### Part 4: Mean, Min, Max, Median of Duration for each Category"
   ]
  },
  {
   "cell_type": "code",
   "execution_count": 118,
   "metadata": {},
   "outputs": [
    {
     "data": {
      "text/plain": [
       "Category\n",
       "ChiPy             185.480000\n",
       "PyCon US 2015       4.000000\n",
       "Uncategorized    2481.771429\n",
       "Name: Duration, dtype: float64"
      ]
     },
     "execution_count": 118,
     "metadata": {},
     "output_type": "execute_result"
    }
   ],
   "source": [
    "df_movies.groupby('Category')['Duration'].mean()"
   ]
  },
  {
   "cell_type": "code",
   "execution_count": 119,
   "metadata": {},
   "outputs": [
    {
     "data": {
      "text/plain": [
       "Category\n",
       "ChiPy              4.0\n",
       "PyCon US 2015      4.0\n",
       "Uncategorized    300.0\n",
       "Name: Duration, dtype: float64"
      ]
     },
     "execution_count": 119,
     "metadata": {},
     "output_type": "execute_result"
    }
   ],
   "source": [
    "df_movies.groupby('Category')['Duration'].min()"
   ]
  },
  {
   "cell_type": "code",
   "execution_count": 120,
   "metadata": {},
   "outputs": [
    {
     "data": {
      "text/plain": [
       "Category\n",
       "ChiPy            3600.0\n",
       "PyCon US 2015       4.0\n",
       "Uncategorized    4328.0\n",
       "Name: Duration, dtype: float64"
      ]
     },
     "execution_count": 120,
     "metadata": {},
     "output_type": "execute_result"
    }
   ],
   "source": [
    "df_movies.groupby('Category')['Duration'].max()"
   ]
  },
  {
   "cell_type": "code",
   "execution_count": 121,
   "metadata": {},
   "outputs": [
    {
     "data": {
      "text/plain": [
       "Category\n",
       "ChiPy               4.0\n",
       "PyCon US 2015       4.0\n",
       "Uncategorized    2535.0\n",
       "Name: Duration, dtype: float64"
      ]
     },
     "execution_count": 121,
     "metadata": {},
     "output_type": "execute_result"
    }
   ],
   "source": [
    "df_movies.groupby('Category')['Duration'].median()"
   ]
  },
  {
   "cell_type": "markdown",
   "metadata": {},
   "source": [
    "### Part 5: Create `label` Column"
   ]
  },
  {
   "cell_type": "markdown",
   "metadata": {},
   "source": [
    "first I create function func which return the value of label of a input.\n",
    "\n",
    "Then, I applied this function in the column Duration and store in a new column called label."
   ]
  },
  {
   "cell_type": "code",
   "execution_count": 122,
   "metadata": {},
   "outputs": [],
   "source": [
    "def func(x):\n",
    "    if x < 1000 :\n",
    "        return 1\n",
    "    elif x > 1000 and x < 2000:\n",
    "        return 2\n",
    "    else:\n",
    "        return 3\n",
    "df_movies['label'] = df_movies['Duration'].apply(func)"
   ]
  },
  {
   "cell_type": "markdown",
   "metadata": {},
   "source": [
    "### Part 6: First and Last video of each label"
   ]
  },
  {
   "cell_type": "code",
   "execution_count": 123,
   "metadata": {},
   "outputs": [
    {
     "data": {
      "text/plain": [
       "label\n",
       "1    3D Print Anything with the Blender API\n",
       "2         A Talk on Giving a Pythonic Talk \n",
       "3            When Python Practices Go Wrong\n",
       "Name: Title, dtype: object"
      ]
     },
     "execution_count": 123,
     "metadata": {},
     "output_type": "execute_result"
    }
   ],
   "source": [
    "df_movies.groupby('label')['Title'].first()"
   ]
  },
  {
   "cell_type": "code",
   "execution_count": 124,
   "metadata": {},
   "outputs": [
    {
     "data": {
      "text/plain": [
       "label\n",
       "1       Zen of Quality\n",
       "2       REST on Django\n",
       "3    Python For Humans\n",
       "Name: Title, dtype: object"
      ]
     },
     "execution_count": 124,
     "metadata": {},
     "output_type": "execute_result"
    }
   ],
   "source": [
    "df_movies.groupby('label')['Title'].last()"
   ]
  },
  {
   "cell_type": "markdown",
   "metadata": {},
   "source": [
    "### (Bonus) part 7: WordCloud of Discription"
   ]
  },
  {
   "cell_type": "code",
   "execution_count": null,
   "metadata": {},
   "outputs": [],
   "source": []
  }
 ],
 "metadata": {
  "kernelspec": {
   "display_name": "Python 3 (ipykernel)",
   "language": "python",
   "name": "python3"
  },
  "language_info": {
   "codemirror_mode": {
    "name": "ipython",
    "version": 3
   },
   "file_extension": ".py",
   "mimetype": "text/x-python",
   "name": "python",
   "nbconvert_exporter": "python",
   "pygments_lexer": "ipython3",
   "version": "3.9.12"
  },
  "vscode": {
   "interpreter": {
    "hash": "5c3183615832a26a6e752fe1c57826911e31ec709aa29e730b8e3637a0be59be"
   }
  }
 },
 "nbformat": 4,
 "nbformat_minor": 2
}
